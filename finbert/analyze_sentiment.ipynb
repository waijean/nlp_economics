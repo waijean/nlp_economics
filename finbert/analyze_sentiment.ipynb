{
 "cells": [
  {
   "cell_type": "code",
   "execution_count": 1,
   "metadata": {},
   "outputs": [],
   "source": [
    "from google.cloud import bigquery\n",
    "import pandas as pd\n",
    "import numpy as np\n",
    "import seaborn as sns\n",
    "pd.set_option(\"display.max_rows\", 100)\n",
    "pd.set_option(\"display.max_columns\", None)\n",
    "pd.set_option(\"display.max_colwidth\", None)\n",
    "import matplotlib.pyplot as plt\n",
    "sns.set()"
   ]
  },
  {
   "cell_type": "code",
   "execution_count": 2,
   "metadata": {},
   "outputs": [],
   "source": [
    "sentence_df = pd.read_csv(\"daily_mail_first_sentence.csv\")"
   ]
  },
  {
   "cell_type": "code",
   "execution_count": 3,
   "metadata": {},
   "outputs": [
    {
     "name": "stdout",
     "output_type": "stream",
     "text": [
      "<class 'pandas.core.frame.DataFrame'>\n",
      "RangeIndex: 17100 entries, 0 to 17099\n",
      "Data columns (total 3 columns):\n",
      " #   Column          Non-Null Count  Dtype         \n",
      "---  ------          --------------  -----         \n",
      " 0   GKGRECORDID     17100 non-null  object        \n",
      " 1   DATE            17100 non-null  datetime64[ns]\n",
      " 2   first_sentence  17100 non-null  object        \n",
      "dtypes: datetime64[ns](1), object(2)\n",
      "memory usage: 400.9+ KB\n"
     ]
    }
   ],
   "source": [
    "sentence_df = sentence_df.astype({\"DATE\":\"datetime64\"}) \n",
    "sentence_df.info()"
   ]
  },
  {
   "cell_type": "code",
   "execution_count": 4,
   "metadata": {},
   "outputs": [],
   "source": [
    "prediction_df = pd.read_csv(\"output/predictions.csv\")"
   ]
  },
  {
   "cell_type": "code",
   "execution_count": 5,
   "metadata": {},
   "outputs": [
    {
     "name": "stdout",
     "output_type": "stream",
     "text": [
      "<class 'pandas.core.frame.DataFrame'>\n",
      "RangeIndex: 17100 entries, 0 to 17099\n",
      "Data columns (total 4 columns):\n",
      " #   Column           Non-Null Count  Dtype  \n",
      "---  ------           --------------  -----  \n",
      " 0   sentence         17100 non-null  object \n",
      " 1   logit            17100 non-null  object \n",
      " 2   prediction       17100 non-null  object \n",
      " 3   sentiment_score  17100 non-null  float64\n",
      "dtypes: float64(1), object(3)\n",
      "memory usage: 534.5+ KB\n"
     ]
    }
   ],
   "source": [
    "prediction_df.info()"
   ]
  },
  {
   "cell_type": "code",
   "execution_count": 6,
   "metadata": {},
   "outputs": [],
   "source": [
    "merged_df = pd.concat([sentence_df, prediction_df], axis=1)"
   ]
  },
  {
   "cell_type": "code",
   "execution_count": 7,
   "metadata": {},
   "outputs": [
    {
     "data": {
      "text/html": [
       "<div>\n",
       "<style scoped>\n",
       "    .dataframe tbody tr th:only-of-type {\n",
       "        vertical-align: middle;\n",
       "    }\n",
       "\n",
       "    .dataframe tbody tr th {\n",
       "        vertical-align: top;\n",
       "    }\n",
       "\n",
       "    .dataframe thead th {\n",
       "        text-align: right;\n",
       "    }\n",
       "</style>\n",
       "<table border=\"1\" class=\"dataframe\">\n",
       "  <thead>\n",
       "    <tr style=\"text-align: right;\">\n",
       "      <th></th>\n",
       "      <th>first_sentence</th>\n",
       "      <th>prediction</th>\n",
       "      <th>sentiment_score</th>\n",
       "    </tr>\n",
       "  </thead>\n",
       "  <tbody>\n",
       "    <tr>\n",
       "      <th>0</th>\n",
       "      <td>Newspaper publisher Trinity Mirror will reveal a fall in profits tomorrow.</td>\n",
       "      <td>negative</td>\n",
       "      <td>-0.947576</td>\n",
       "    </tr>\n",
       "    <tr>\n",
       "      <th>1</th>\n",
       "      <td>The FTSE 100 soared to a record high last week, but private share buyers believe politicians need to do more to encourage stock market investment, and most believe politicians do not do enough to support them.</td>\n",
       "      <td>negative</td>\n",
       "      <td>-0.532165</td>\n",
       "    </tr>\n",
       "    <tr>\n",
       "      <th>2</th>\n",
       "      <td>The broadcaster ITV, which is in talks to buy the production company behind BBC1’s hit show The Voice, will report sharply increased profits this week as boss Adam Crozier’s five-year turnaround plan comes to fruition.</td>\n",
       "      <td>positive</td>\n",
       "      <td>0.903221</td>\n",
       "    </tr>\n",
       "    <tr>\n",
       "      <th>3</th>\n",
       "      <td>It counts Prince Harry among its customers and now sales at the British arm of US food giant Whole Foods have topped £100million for the first time since launching here ten years ago.</td>\n",
       "      <td>positive</td>\n",
       "      <td>0.840543</td>\n",
       "    </tr>\n",
       "    <tr>\n",
       "      <th>4</th>\n",
       "      <td>Billionaire investor Warren Buffett has admitted being ‘embarrassed’ by taking too long to exit a £1.5billion investment in Tesco as it became mired in an accounting scandal.</td>\n",
       "      <td>negative</td>\n",
       "      <td>-0.846165</td>\n",
       "    </tr>\n",
       "  </tbody>\n",
       "</table>\n",
       "</div>"
      ],
      "text/plain": [
       "                                                                                                                                                                                                               first_sentence  \\\n",
       "0                                                                                                                                                  Newspaper publisher Trinity Mirror will reveal a fall in profits tomorrow.   \n",
       "1           The FTSE 100 soared to a record high last week, but private share buyers believe politicians need to do more to encourage stock market investment, and most believe politicians do not do enough to support them.   \n",
       "2  The broadcaster ITV, which is in talks to buy the production company behind BBC1’s hit show The Voice, will report sharply increased profits this week as boss Adam Crozier’s five-year turnaround plan comes to fruition.   \n",
       "3                                     It counts Prince Harry among its customers and now sales at the British arm of US food giant Whole Foods have topped £100million for the first time since launching here ten years ago.   \n",
       "4                                              Billionaire investor Warren Buffett has admitted being ‘embarrassed’ by taking too long to exit a £1.5billion investment in Tesco as it became mired in an accounting scandal.   \n",
       "\n",
       "  prediction  sentiment_score  \n",
       "0   negative        -0.947576  \n",
       "1   negative        -0.532165  \n",
       "2   positive         0.903221  \n",
       "3   positive         0.840543  \n",
       "4   negative        -0.846165  "
      ]
     },
     "execution_count": 7,
     "metadata": {},
     "output_type": "execute_result"
    }
   ],
   "source": [
    "merged_df[[\"first_sentence\", \"prediction\", \"sentiment_score\"]].head()"
   ]
  },
  {
   "cell_type": "code",
   "execution_count": 8,
   "metadata": {},
   "outputs": [],
   "source": [
    "# aggregate to daily/monthly level\n",
    "sentiment = merged_df.groupby(\"DATE\").agg({\"sentiment_score\":\"mean\"})"
   ]
  },
  {
   "cell_type": "code",
   "execution_count": 9,
   "metadata": {},
   "outputs": [
    {
     "data": {
      "text/plain": [
       "<AxesSubplot:xlabel='DATE'>"
      ]
     },
     "execution_count": 9,
     "metadata": {},
     "output_type": "execute_result"
    },
    {
     "data": {
      "image/png": "[encoded data removed]",
      "text/plain": [
       "<Figure size 432x288 with 1 Axes>"
      ]
     },
     "metadata": {},
     "output_type": "display_data"
    }
   ],
   "source": [
    "sentiment.resample(\"MS\").mean().plot()"
   ]
  },
  {
   "cell_type": "code",
   "execution_count": 10,
   "metadata": {},
   "outputs": [],
   "source": [
    "# join with macroeconomic indicators "
   ]
  },
  {
   "cell_type": "code",
   "execution_count": 21,
   "metadata": {},
   "outputs": [],
   "source": [
    "import yfinance as yf\n",
    "\n",
    "msft = yf.Ticker(\"^FTSE\")\n",
    "\n",
    "# get stock info\n",
    "msft.info\n",
    "\n",
    "# get historical market data\n",
    "hist = msft.history(start=\"2015-03-01\", end=\"2020-09-30\")"
   ]
  },
  {
   "cell_type": "code",
   "execution_count": 30,
   "metadata": {},
   "outputs": [],
   "source": [
    "compare_df = pd.concat([hist[\"Close\"], sentiment], axis=1).dropna()"
   ]
  },
  {
   "cell_type": "code",
   "execution_count": 33,
   "metadata": {},
   "outputs": [],
   "source": [
    "compare_df[\"close_diff\"] = compare_df[\"Close\"].diff()\n",
    "compare_df[\"sentiment_score_diff\"] = compare_df[\"sentiment_score\"].diff()"
   ]
  },
  {
   "cell_type": "code",
   "execution_count": 38,
   "metadata": {},
   "outputs": [
    {
     "name": "stderr",
     "output_type": "stream",
     "text": [
      "*c* argument looks like a single numeric RGB or RGBA sequence, which should be avoided as value-mapping will have precedence in case its length matches with *x* & *y*.  Please use the *color* keyword-argument or provide a 2-D array with a single row if you intend to specify the same RGB or RGBA value for all points.\n"
     ]
    },
    {
     "data": {
      "text/plain": [
       "<AxesSubplot:xlabel='sentiment_score_diff', ylabel='close_diff'>"
      ]
     },
     "execution_count": 38,
     "metadata": {},
     "output_type": "execute_result"
    },
    {
     "data": {
      "image/png": "[encoded data removed]",
      "text/plain": [
       "<Figure size 432x288 with 1 Axes>"
      ]
     },
     "metadata": {},
     "output_type": "display_data"
    }
   ],
   "source": [
    "compare_df.plot.scatter(x=\"sentiment_score_diff\", y=\"close_diff\")"
   ]
  },
  {
   "cell_type": "code",
   "execution_count": null,
   "metadata": {},
   "outputs": [],
   "source": []
  }
 ],
 "metadata": {
  "environment": {
   "name": "common-cpu.m59",
   "type": "gcloud",
   "uri": "gcr.io/deeplearning-platform-release/base-cpu:m59"
  },
  "kernelspec": {
   "display_name": "Python 3",
   "language": "python",
   "name": "python3"
  },
  "language_info": {
   "codemirror_mode": {
    "name": "ipython",
    "version": 3
   },
   "file_extension": ".py",
   "mimetype": "text/x-python",
   "name": "python",
   "nbconvert_exporter": "python",
   "pygments_lexer": "ipython3",
   "version": "3.7.8"
  }
 },
 "nbformat": 4,
 "nbformat_minor": 4
}
