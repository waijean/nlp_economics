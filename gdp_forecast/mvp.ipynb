{
 "cells": [
  {
   "cell_type": "code",
   "execution_count": 1,
   "metadata": {},
   "outputs": [],
   "source": [
    "from google.cloud import bigquery\n",
    "import pandas as pd\n",
    "import numpy as np\n",
    "import seaborn as sns\n",
    "pd.set_option(\"display.max_rows\", 100)\n",
    "pd.set_option(\"display.max_columns\", None)\n",
    "import matplotlib.pyplot as plt\n",
    "sns.set()"
   ]
  },
  {
   "cell_type": "markdown",
   "metadata": {},
   "source": [
    "### Using average tone across Daily Mail articles which have more than 10% of economic themes "
   ]
  },
  {
   "cell_type": "code",
   "execution_count": 2,
   "metadata": {},
   "outputs": [
    {
     "data": {
      "text/html": [
       "<div>\n",
       "<style scoped>\n",
       "    .dataframe tbody tr th:only-of-type {\n",
       "        vertical-align: middle;\n",
       "    }\n",
       "\n",
       "    .dataframe tbody tr th {\n",
       "        vertical-align: top;\n",
       "    }\n",
       "\n",
       "    .dataframe thead th {\n",
       "        text-align: right;\n",
       "    }\n",
       "</style>\n",
       "<table border=\"1\" class=\"dataframe\">\n",
       "  <thead>\n",
       "    <tr style=\"text-align: right;\">\n",
       "      <th></th>\n",
       "      <th>DATE</th>\n",
       "      <th>TONE</th>\n",
       "      <th>POSITIVE_SCORE</th>\n",
       "      <th>NEGATIVE_SCORE</th>\n",
       "      <th>POLARITY</th>\n",
       "      <th>GDP</th>\n",
       "    </tr>\n",
       "  </thead>\n",
       "  <tbody>\n",
       "    <tr>\n",
       "      <th>0</th>\n",
       "      <td>2015-02-01</td>\n",
       "      <td>None</td>\n",
       "      <td>None</td>\n",
       "      <td>None</td>\n",
       "      <td>None</td>\n",
       "      <td>0.4</td>\n",
       "    </tr>\n",
       "    <tr>\n",
       "      <th>1</th>\n",
       "      <td>2015-03-01</td>\n",
       "      <td>-0.694302924</td>\n",
       "      <td>2.658678497</td>\n",
       "      <td>3.352981421</td>\n",
       "      <td>6.011659919</td>\n",
       "      <td>0.4</td>\n",
       "    </tr>\n",
       "    <tr>\n",
       "      <th>2</th>\n",
       "      <td>2015-04-01</td>\n",
       "      <td>-0.551040943</td>\n",
       "      <td>2.531539929</td>\n",
       "      <td>3.082580871</td>\n",
       "      <td>5.614120800</td>\n",
       "      <td>0.6</td>\n",
       "    </tr>\n",
       "    <tr>\n",
       "      <th>3</th>\n",
       "      <td>2015-05-01</td>\n",
       "      <td>-0.718312348</td>\n",
       "      <td>2.435169584</td>\n",
       "      <td>3.153481932</td>\n",
       "      <td>5.588651516</td>\n",
       "      <td>0.7</td>\n",
       "    </tr>\n",
       "    <tr>\n",
       "      <th>4</th>\n",
       "      <td>2015-06-01</td>\n",
       "      <td>-0.791295954</td>\n",
       "      <td>2.381608524</td>\n",
       "      <td>3.172904478</td>\n",
       "      <td>5.554513002</td>\n",
       "      <td>0.7</td>\n",
       "    </tr>\n",
       "  </tbody>\n",
       "</table>\n",
       "</div>"
      ],
      "text/plain": [
       "         DATE          TONE POSITIVE_SCORE NEGATIVE_SCORE     POLARITY  GDP\n",
       "0  2015-02-01          None           None           None         None  0.4\n",
       "1  2015-03-01  -0.694302924    2.658678497    3.352981421  6.011659919  0.4\n",
       "2  2015-04-01  -0.551040943    2.531539929    3.082580871  5.614120800  0.6\n",
       "3  2015-05-01  -0.718312348    2.435169584    3.153481932  5.588651516  0.7\n",
       "4  2015-06-01  -0.791295954    2.381608524    3.172904478  5.554513002  0.7"
      ]
     },
     "execution_count": 2,
     "metadata": {},
     "output_type": "execute_result"
    }
   ],
   "source": [
    "client = bigquery.Client()\n",
    "\n",
    "threshold = 0.1\n",
    "\n",
    "query=f\"\"\"\n",
    "SELECT b.DATE, TONE, POSITIVE_SCORE, NEGATIVE_SCORE, POLARITY, GDP from\n",
    "(SELECT \n",
    "DATE_TRUNC(DATE , MONTH) DATE\n",
    ",AVG(TONE) TONE\n",
    ",AVG(POSITIVE_SCORE) POSITIVE_SCORE\n",
    ",AVG(NEGATIVE_SCORE) NEGATIVE_SCORE\n",
    ",AVG(POLARITY) POLARITY\n",
    "FROM goldenfleece.final_task.gkg_daily_mail\n",
    "where Econ_Theme_Prop > {threshold}\n",
    "group by DATE) a\n",
    "right join goldenfleece.final_task.monthly_gdp_lag b\n",
    "on a.DATE = b.DATE\n",
    "where b.DATE >= '2015-02-01'\n",
    "order by b.DATE\n",
    "\"\"\"\n",
    "gdp_df = client.query(query).to_dataframe()\n",
    "gdp_df.head()"
   ]
  },
  {
   "cell_type": "code",
   "execution_count": 3,
   "metadata": {},
   "outputs": [
    {
     "name": "stdout",
     "output_type": "stream",
     "text": [
      "<class 'pandas.core.frame.DataFrame'>\n",
      "RangeIndex: 68 entries, 0 to 67\n",
      "Data columns (total 6 columns):\n",
      " #   Column          Non-Null Count  Dtype         \n",
      "---  ------          --------------  -----         \n",
      " 0   DATE            68 non-null     datetime64[ns]\n",
      " 1   TONE            67 non-null     float64       \n",
      " 2   POSITIVE_SCORE  67 non-null     float64       \n",
      " 3   NEGATIVE_SCORE  67 non-null     float64       \n",
      " 4   POLARITY        67 non-null     float64       \n",
      " 5   GDP             68 non-null     float64       \n",
      "dtypes: datetime64[ns](1), float64(5)\n",
      "memory usage: 3.3 KB\n"
     ]
    }
   ],
   "source": [
    "gdp_df = gdp_df.astype({\"DATE\":\"datetime64\", \"TONE\":float, \"POSITIVE_SCORE\":float, \"NEGATIVE_SCORE\":float, \"POLARITY\":float}) \n",
    "gdp_df.info()"
   ]
  },
  {
   "cell_type": "code",
   "execution_count": 4,
   "metadata": {},
   "outputs": [
    {
     "data": {
      "text/plain": [
       "<AxesSubplot:xlabel='DATE'>"
      ]
     },
     "execution_count": 4,
     "metadata": {},
     "output_type": "execute_result"
    },
    {
     "data": {
      "image/png": "[encoded data removed]",
      "text/plain": [
       "<Figure size 720x360 with 1 Axes>"
      ]
     },
     "metadata": {},
     "output_type": "display_data"
    }
   ],
   "source": [
    "gdp_df[[\"TONE\", \"GDP\", \"DATE\"]].set_index(\"DATE\").plot(figsize=(10,5))"
   ]
  },
  {
   "cell_type": "code",
   "execution_count": 5,
   "metadata": {},
   "outputs": [],
   "source": [
    "from cross_validate import cross_validate, build_design_matrix"
   ]
  },
  {
   "cell_type": "markdown",
   "metadata": {},
   "source": [
    "### Check stationarity assumption\n",
    "\n",
    "From visual inspection, exclude COVID period to satisfy stationarity assumption"
   ]
  },
  {
   "cell_type": "markdown",
   "metadata": {},
   "source": [
    "### Apply smoothing to TONE "
   ]
  },
  {
   "cell_type": "code",
   "execution_count": 6,
   "metadata": {},
   "outputs": [
    {
     "name": "stdout",
     "output_type": "stream",
     "text": [
      "<class 'pandas.core.frame.DataFrame'>\n",
      "RangeIndex: 59 entries, 0 to 58\n",
      "Data columns (total 7 columns):\n",
      " #   Column          Non-Null Count  Dtype         \n",
      "---  ------          --------------  -----         \n",
      " 0   DATE            59 non-null     datetime64[ns]\n",
      " 1   TONE            59 non-null     float64       \n",
      " 2   POSITIVE_SCORE  59 non-null     float64       \n",
      " 3   NEGATIVE_SCORE  59 non-null     float64       \n",
      " 4   POLARITY        59 non-null     float64       \n",
      " 5   target_lag      59 non-null     float64       \n",
      " 6   target          59 non-null     float64       \n",
      "dtypes: datetime64[ns](1), float64(6)\n",
      "memory usage: 3.4 KB\n"
     ]
    }
   ],
   "source": [
    "design_df = build_design_matrix(gdp_df, \"DATE\", \"GDP\", horizon=1, start_date=\"2015-03-01\", end_date=\"2020-01-01\")\n",
    "design_df.info()"
   ]
  },
  {
   "cell_type": "code",
   "execution_count": 7,
   "metadata": {},
   "outputs": [
    {
     "name": "stdout",
     "output_type": "stream",
     "text": [
      "Average RMSE over 20 predictions for 3-month horizon: 0.225\n",
      "Average RMSE over 17 predictions for 6-month horizon: 0.217\n",
      "Average RMSE over 14 predictions for 9-month horizon: 0.238\n",
      "\n",
      "Average RMSE across different horizons: 0.227\n"
     ]
    }
   ],
   "source": [
    "from sklearn.linear_model import LinearRegression\n",
    "\n",
    "lr=LinearRegression()\n",
    "\n",
    "rmse_list = []\n",
    "for horizon in [3,6,9]:\n",
    "    result_df = cross_validate(\n",
    "        design_df,\n",
    "        lr,\n",
    "        initial=36,\n",
    "        period=1,\n",
    "        horizon=horizon,\n",
    "        date_col=\"DATE\",\n",
    "        feature_cols=[\"TONE\", \"target_lag\"],\n",
    "        target_col=\"target\",\n",
    "    )\n",
    "    rmse = (((result_df[\"pred\"] - result_df[\"actual\"]) ** 2).mean()) ** 0.5\n",
    "    rmse_list.append(rmse)\n",
    "    print(f\"Average RMSE over {len(result_df)} predictions for {horizon}-month horizon: {rmse:.3f}\")\n",
    "\n",
    "print(f\"\\nAverage RMSE across different horizons: {np.array(rmse_list).mean():.3f}\")"
   ]
  },
  {
   "cell_type": "code",
   "execution_count": 8,
   "metadata": {},
   "outputs": [
    {
     "data": {
      "text/plain": [
       "<AxesSubplot:xlabel='date'>"
      ]
     },
     "execution_count": 8,
     "metadata": {},
     "output_type": "execute_result"
    },
    {
     "data": {
      "image/png": "[encoded data removed]",
      "text/plain": [
       "<Figure size 720x360 with 1 Axes>"
      ]
     },
     "metadata": {},
     "output_type": "display_data"
    }
   ],
   "source": [
    "result_df[[\"pred\", \"actual\", \"date\"]].set_index(\"date\").plot(figsize=(10,5))"
   ]
  }
 ],
 "metadata": {
  "environment": {
   "name": "common-cpu.m59",
   "type": "gcloud",
   "uri": "gcr.io/deeplearning-platform-release/base-cpu:m59"
  },
  "kernelspec": {
   "display_name": "Python 3",
   "language": "python",
   "name": "python3"
  },
  "language_info": {
   "codemirror_mode": {
    "name": "ipython",
    "version": 3
   },
   "file_extension": ".py",
   "mimetype": "text/x-python",
   "name": "python",
   "nbconvert_exporter": "python",
   "pygments_lexer": "ipython3",
   "version": "3.7.8"
  }
 },
 "nbformat": 4,
 "nbformat_minor": 4
}
