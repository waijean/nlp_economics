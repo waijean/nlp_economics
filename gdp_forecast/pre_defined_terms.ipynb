{
 "cells": [
  {
   "cell_type": "markdown",
   "metadata": {},
   "source": [
    "## Pre-defined terms in BOE working paper\n",
    "\n",
    "[BOE working paper](#https://www.bankofengland.co.uk/-/media/boe/files/working-paper/2020/making-text-count-economic-forecasting-using-newspaper-text.pdf?la=en&hash=E81EC91956CEA4FC6F63C4DC5942F0E9D4580558)\n",
    "\n",
    "We use 9660 terms, with up to 3-grams. The pre-defined list of terms used to construct the term\n",
    "frequency matrix uses the union of several dictionaries. These are those dictionaries found in \n",
    "- Nyman et al. (2018)\n",
    "- Loughran and McDonald (2013)\n",
    "- Nielsen (2011)\n",
    "- Hu and Liu (2004)\n",
    "- Hu et al. (2017), and \n",
    "- Correa et al. (2017). \n",
    "\n",
    "We add to this a collection of words related to economics and finance (most of these come from https://home.ubalt.edu/ntsbarsh/stat-data/KeywordsPhra.htm and http://home.ubalt.edu/ntsbarsh/Business-stat/stat-data/KeysPhrasFinance.htm.) and the Harvard IV psychological dictionary used by Tetlock (2007). \n",
    "\n",
    "We use n-grams up to trigrams only if they already exist individually in these dictionaries. For example, “interest rate risk” is a tri-gram\n",
    "inherited from one of the component dictionaries. This gives 9660 unique terms of which 8030 appear in our corpus."
   ]
  },
  {
   "cell_type": "code",
   "execution_count": null,
   "metadata": {},
   "outputs": [],
   "source": []
  }
 ],
 "metadata": {
  "environment": {
   "name": "common-cpu.m59",
   "type": "gcloud",
   "uri": "gcr.io/deeplearning-platform-release/base-cpu:m59"
  },
  "kernelspec": {
   "display_name": "Python 3",
   "language": "python",
   "name": "python3"
  },
  "language_info": {
   "codemirror_mode": {
    "name": "ipython",
    "version": 3
   },
   "file_extension": ".py",
   "mimetype": "text/x-python",
   "name": "python",
   "nbconvert_exporter": "python",
   "pygments_lexer": "ipython3",
   "version": "3.7.8"
  }
 },
 "nbformat": 4,
 "nbformat_minor": 4
}
