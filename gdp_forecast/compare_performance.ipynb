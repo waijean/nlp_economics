{
 "cells": [
  {
   "cell_type": "code",
   "execution_count": 1,
   "metadata": {},
   "outputs": [],
   "source": [
    "from google.cloud import bigquery\n",
    "import pandas as pd\n",
    "import numpy as np\n",
    "import seaborn as sns\n",
    "pd.set_option(\"display.max_rows\", 100)\n",
    "pd.set_option(\"display.max_columns\", None)\n",
    "pd.set_option(\"display.max_colwidth\", None)\n",
    "import matplotlib.pyplot as plt\n",
    "sns.set()"
   ]
  },
  {
   "cell_type": "code",
   "execution_count": 2,
   "metadata": {},
   "outputs": [],
   "source": [
    "baseline_df = pd.read_csv(\"baseline_result.csv\", parse_dates=[\"date\"], usecols=[\"date\", \"pred\", \"actual\", \"horizon\", \"target\"])"
   ]
  },
  {
   "cell_type": "code",
   "execution_count": 3,
   "metadata": {},
   "outputs": [
    {
     "name": "stdout",
     "output_type": "stream",
     "text": [
      "<class 'pandas.core.frame.DataFrame'>\n",
      "RangeIndex: 666 entries, 0 to 665\n",
      "Data columns (total 5 columns):\n",
      " #   Column   Non-Null Count  Dtype         \n",
      "---  ------   --------------  -----         \n",
      " 0   date     666 non-null    datetime64[ns]\n",
      " 1   pred     666 non-null    float64       \n",
      " 2   actual   666 non-null    float64       \n",
      " 3   horizon  666 non-null    int64         \n",
      " 4   target   666 non-null    object        \n",
      "dtypes: datetime64[ns](1), float64(2), int64(1), object(1)\n",
      "memory usage: 26.1+ KB\n"
     ]
    }
   ],
   "source": [
    "baseline_df.info()"
   ]
  },
  {
   "cell_type": "code",
   "execution_count": 4,
   "metadata": {},
   "outputs": [],
   "source": [
    "model_df = pd.read_csv(\"model_result.csv\", parse_dates=[\"date\"], usecols=[\"date\", \"pred\", \"actual\", \"horizon\", \"target\"])"
   ]
  },
  {
   "cell_type": "code",
   "execution_count": 5,
   "metadata": {},
   "outputs": [
    {
     "name": "stdout",
     "output_type": "stream",
     "text": [
      "<class 'pandas.core.frame.DataFrame'>\n",
      "RangeIndex: 666 entries, 0 to 665\n",
      "Data columns (total 5 columns):\n",
      " #   Column   Non-Null Count  Dtype         \n",
      "---  ------   --------------  -----         \n",
      " 0   date     666 non-null    datetime64[ns]\n",
      " 1   pred     666 non-null    float64       \n",
      " 2   actual   666 non-null    float64       \n",
      " 3   horizon  666 non-null    int64         \n",
      " 4   target   666 non-null    object        \n",
      "dtypes: datetime64[ns](1), float64(2), int64(1), object(1)\n",
      "memory usage: 26.1+ KB\n"
     ]
    }
   ],
   "source": [
    "model_df.info()"
   ]
  },
  {
   "cell_type": "code",
   "execution_count": 14,
   "metadata": {},
   "outputs": [],
   "source": [
    "from sklearn.metrics import mean_squared_error\n",
    "baseline_error_df = baseline_df.groupby([\"target\", \"horizon\"]).apply(lambda x:mean_squared_error(x[\"pred\"], x[\"actual\"], squared=False))\n",
    "model_error_df = model_df.groupby([\"target\", \"horizon\",]).apply(lambda x:mean_squared_error(x[\"pred\"], x[\"actual\"], squared=False))"
   ]
  },
  {
   "cell_type": "code",
   "execution_count": 39,
   "metadata": {},
   "outputs": [],
   "source": [
    "comparison_df = model_error_df.sort_index().div(baseline_error_df.sort_index()).rename(\"Ratio\")"
   ]
  },
  {
   "cell_type": "code",
   "execution_count": 41,
   "metadata": {},
   "outputs": [
    {
     "data": {
      "text/plain": [
       "Text(0.5, 0.98, 'Ratio of RMSE (ML) vs RMSE (Baseline)')"
      ]
     },
     "execution_count": 41,
     "metadata": {},
     "output_type": "execute_result"
    },
    {
     "data": {
      "image/png": "[encoded data removed]",
      "text/plain": [
       "<Figure size 1080x360 with 3 Axes>"
      ]
     },
     "metadata": {},
     "output_type": "display_data"
    }
   ],
   "source": [
    "subset_df = comparison_df.loc[([\"GDP\", \"CPI_MOM_CHG\", \"UNEMPLOYMENT_MOM_CHG\"], [1,2,3,4,5,6])]\n",
    "g = sns.catplot(x=\"horizon\"\n",
    "                ,y=\"Ratio\"\n",
    "                ,data=subset_df.reset_index()\n",
    "                ,col=\"target\"\n",
    "                ,kind=\"bar\"\n",
    "                ,sharey=True\n",
    "               ,facet_kws={\"ylim\":(0,2),})\n",
    "\n",
    "plt.subplots_adjust(top=0.8)\n",
    "g.fig.suptitle(\"Ratio of RMSE (ML) vs RMSE (Baseline)\")\n"
   ]
  }
 ],
 "metadata": {
  "environment": {
   "name": "common-cpu.m59",
   "type": "gcloud",
   "uri": "gcr.io/deeplearning-platform-release/base-cpu:m59"
  },
  "kernelspec": {
   "display_name": "Python 3",
   "language": "python",
   "name": "python3"
  },
  "language_info": {
   "codemirror_mode": {
    "name": "ipython",
    "version": 3
   },
   "file_extension": ".py",
   "mimetype": "text/x-python",
   "name": "python",
   "nbconvert_exporter": "python",
   "pygments_lexer": "ipython3",
   "version": "3.7.8"
  }
 },
 "nbformat": 4,
 "nbformat_minor": 4
}
