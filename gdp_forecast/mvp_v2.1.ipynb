{
 "cells": [
  {
   "cell_type": "code",
   "execution_count": 9,
   "metadata": {},
   "outputs": [],
   "source": [
    "from google.cloud import bigquery\n",
    "import pandas as pd\n",
    "import numpy as np\n",
    "import seaborn as sns\n",
    "pd.set_option(\"display.max_rows\", 100)\n",
    "pd.set_option(\"display.max_columns\", None)\n",
    "pd.set_option(\"display.max_colwidth\", None)\n",
    "import matplotlib.pyplot as plt\n",
    "sns.set()"
   ]
  },
  {
   "cell_type": "markdown",
   "metadata": {},
   "source": [
    "### Using term frequency of n-grams across Daily Mail articles which belong to money/markets section"
   ]
  },
  {
   "cell_type": "code",
   "execution_count": 10,
   "metadata": {},
   "outputs": [
    {
     "data": {
      "text/html": [
       "<div>\n",
       "<style scoped>\n",
       "    .dataframe tbody tr th:only-of-type {\n",
       "        vertical-align: middle;\n",
       "    }\n",
       "\n",
       "    .dataframe tbody tr th {\n",
       "        vertical-align: top;\n",
       "    }\n",
       "\n",
       "    .dataframe thead th {\n",
       "        text-align: right;\n",
       "    }\n",
       "</style>\n",
       "<table border=\"1\" class=\"dataframe\">\n",
       "  <thead>\n",
       "    <tr style=\"text-align: right;\">\n",
       "      <th></th>\n",
       "      <th>GKGRECORDID</th>\n",
       "      <th>DATE</th>\n",
       "      <th>content</th>\n",
       "    </tr>\n",
       "  </thead>\n",
       "  <tbody>\n",
       "    <tr>\n",
       "      <th>0</th>\n",
       "      <td>20150301010000-1303</td>\n",
       "      <td>2015-03-01</td>\n",
       "      <td>Newspaper publisher Trinity Mirror will reveal a fall in profits tomorrow. The Daily Mirror owner is expected to report profits of £100million for last year, down slightly on the previous year, according to investment bank Numis. Investors will also be looking for further guidance on the sums expected to be paid out after phone-hacking claims against the publisher. The company admitted for the first time in September that some of its journalists were involved. Under chief executive Simon Fox, Trinity Mirror said last month it would increase the provisional sum set aside to deal with phone-hacking claims by £8million to £12million. There was also uncertainty over whether or not new allegations would emerge. Trinity has said that it has received a £12million special dividend from Local World, the regional newspaper group in which it has a stake. (The Mail On Sunday publisher DMGT also has a stake.) This is in addition to the £3million it received during 2014, so its initial investment of £14.2million for a 20 per cent stake is more than covered. The publisher has reduced debt to below £20million, while paying £17million of advanced contributions to the pension scheme.</td>\n",
       "    </tr>\n",
       "    <tr>\n",
       "      <th>1</th>\n",
       "      <td>20150301010000-1308</td>\n",
       "      <td>2015-03-01</td>\n",
       "      <td>The FTSE 100 soared to a record high last week, but private share buyers believe politicians need to do more to encourage stock market investment, and most believe politicians do not do enough to support them. The blue-chip index of top London stock ended last week at 6945 – finally surpassing the peak hit during the dotcom boom at the end of 1999. Although a boon to many private share investors, a survey by The Share Centre, a leading stock broker, found the majority of people still felt that they were undervalued by government. The survey of 1,000 investors found that almost three-quarters did not believe any political party was sympathetic to their needs and more than half said they would be swayed to vote for a party that addressed their interests. The biggest single issue was the complexity of the tax system – 68 per cent said they would like taxation to be made simpler. Almost as many (61 per cent) said they would like tax on pension schemes to be reduced – a potential blow to Ed Miliband after his announcement last week that he would increase taxes on large pension pots to pay for a cut in university tuition fees. But Richard Stone, chief executive of The Share Centre, said the survey showed that investors were concerned that an inconclusive election result would create market turmoil. ‘We asked people what they thought the most likely outcome would be and 34 per cent said they expected another coalition and 28 per cent said they expected a minority government. That tells me they are bracing themselves for more volatility in the market.’ The survey also found that investors wanted to see cuts to the stamp duty on shares, a reduction in inheritance tax and a cut to capital gains tax.</td>\n",
       "    </tr>\n",
       "    <tr>\n",
       "      <th>2</th>\n",
       "      <td>20150301010000-1311</td>\n",
       "      <td>2015-03-01</td>\n",
       "      <td>The broadcaster ITV, which is in talks to buy the production company behind BBC1’s hit show The Voice, will report sharply increased profits this week as boss Adam Crozier’s five-year turnaround plan comes to fruition. ITV is expected to report profits of £648million for 2014, a 22 per cent rise on 2013, said investment bank Credit Suisse. Crozier and chairman Archie Norman took over in 2010 and set out a five-year plan to complete their turnaround strategy. The broadcaster has reduced its dependence on advertising by buying production companies in Europe and the US. Now just 55 per cent of its revenue comes from advertising, compared with more than 75 per cent in 2010. ITV said on Friday it was in exclusive talks to buy Talpa, the production company owned by Dutch reality TV pioneer John de Mol, who created Big Brother. In 2014, ITV’s main television channels, which have shown popular series such as Mr Selfridge and Downton Abbey, are set to have seen advertising revenue rise by 5 per cent, according to investment bank Barclays Capital. In the first quarter of this year alone, it is expected to have risen 11 per cent. ITV is also benefiting from a rise in Government advertising, estimated to have gone up by 20 per cent in the year to March 2015 on the previous 12 months. The results make it likely Crozier will hit performance targets and so will see his pay rise further. Last year, his pay tripled to £8.4million in total.</td>\n",
       "    </tr>\n",
       "  </tbody>\n",
       "</table>\n",
       "</div>"
      ],
      "text/plain": [
       "           GKGRECORDID        DATE  \\\n",
       "0  20150301010000-1303  2015-03-01   \n",
       "1  20150301010000-1308  2015-03-01   \n",
       "2  20150301010000-1311  2015-03-01   \n",
       "\n",
       "                                                                                                                                                                                                                                                                                                                                                                                                                                                                                                                                                                                                                                                                                                                                                                                                                                                                                                                                                                                                                                                                                                                                                                                                                                                                                                                                                                                                                                                                                                                                                                                                                                                                                                                                                                                   content  \n",
       "0                                                                                                                                                                                                                                                                                                                                                                                                                                                                                                                                                        Newspaper publisher Trinity Mirror will reveal a fall in profits tomorrow. The Daily Mirror owner is expected to report profits of £100million for last year, down slightly on the previous year, according to investment bank Numis. Investors will also be looking for further guidance on the sums expected to be paid out after phone-hacking claims against the publisher. The company admitted for the first time in September that some of its journalists were involved. Under chief executive Simon Fox, Trinity Mirror said last month it would increase the provisional sum set aside to deal with phone-hacking claims by £8million to £12million. There was also uncertainty over whether or not new allegations would emerge. Trinity has said that it has received a £12million special dividend from Local World, the regional newspaper group in which it has a stake. (The Mail On Sunday publisher DMGT also has a stake.) This is in addition to the £3million it received during 2014, so its initial investment of £14.2million for a 20 per cent stake is more than covered. The publisher has reduced debt to below £20million, while paying £17million of advanced contributions to the pension scheme.   \n",
       "1  The FTSE 100 soared to a record high last week, but private share buyers believe politicians need to do more to encourage stock market investment, and most believe politicians do not do enough to support them. The blue-chip index of top London stock ended last week at 6945 – finally surpassing the peak hit during the dotcom boom at the end of 1999. Although a boon to many private share investors, a survey by The Share Centre, a leading stock broker, found the majority of people still felt that they were undervalued by government. The survey of 1,000 investors found that almost three-quarters did not believe any political party was sympathetic to their needs and more than half said they would be swayed to vote for a party that addressed their interests. The biggest single issue was the complexity of the tax system – 68 per cent said they would like taxation to be made simpler. Almost as many (61 per cent) said they would like tax on pension schemes to be reduced – a potential blow to Ed Miliband after his announcement last week that he would increase taxes on large pension pots to pay for a cut in university tuition fees. But Richard Stone, chief executive of The Share Centre, said the survey showed that investors were concerned that an inconclusive election result would create market turmoil. ‘We asked people what they thought the most likely outcome would be and 34 per cent said they expected another coalition and 28 per cent said they expected a minority government. That tells me they are bracing themselves for more volatility in the market.’ The survey also found that investors wanted to see cuts to the stamp duty on shares, a reduction in inheritance tax and a cut to capital gains tax.   \n",
       "2                                                                                                                                                                                                                                                                                  The broadcaster ITV, which is in talks to buy the production company behind BBC1’s hit show The Voice, will report sharply increased profits this week as boss Adam Crozier’s five-year turnaround plan comes to fruition. ITV is expected to report profits of £648million for 2014, a 22 per cent rise on 2013, said investment bank Credit Suisse. Crozier and chairman Archie Norman took over in 2010 and set out a five-year plan to complete their turnaround strategy. The broadcaster has reduced its dependence on advertising by buying production companies in Europe and the US. Now just 55 per cent of its revenue comes from advertising, compared with more than 75 per cent in 2010. ITV said on Friday it was in exclusive talks to buy Talpa, the production company owned by Dutch reality TV pioneer John de Mol, who created Big Brother. In 2014, ITV’s main television channels, which have shown popular series such as Mr Selfridge and Downton Abbey, are set to have seen advertising revenue rise by 5 per cent, according to investment bank Barclays Capital. In the first quarter of this year alone, it is expected to have risen 11 per cent. ITV is also benefiting from a rise in Government advertising, estimated to have gone up by 20 per cent in the year to March 2015 on the previous 12 months. The results make it likely Crozier will hit performance targets and so will see his pay rise further. Last year, his pay tripled to £8.4million in total.   "
      ]
     },
     "execution_count": 10,
     "metadata": {},
     "output_type": "execute_result"
    }
   ],
   "source": [
    "client = bigquery.Client()\n",
    "\n",
    "query=f\"\"\"\n",
    "-- return 17125 rows\n",
    "select a.GKGRECORDID, b.DATE, a.content from\n",
    "(select GKGRECORDID, content from goldenfleece.final_task.daily_mail_2015 \n",
    "where content is not null) a\n",
    "left join\n",
    "-- remove duplicate GKGRECORDID: 20160118230000-260 and 20160725233000-684\n",
    "(select distinct GKGRECORDID, DATE from goldenfleece.final_task.gkg_daily_mail_v2\n",
    ") b\n",
    "on a.GKGRECORDID = b.GKGRECORDID\n",
    "order by a.GKGRECORDID;\n",
    "\"\"\"\n",
    "document_df = client.query(query).to_dataframe()\n",
    "document_df.head(3)"
   ]
  },
  {
   "cell_type": "code",
   "execution_count": 11,
   "metadata": {},
   "outputs": [
    {
     "name": "stdout",
     "output_type": "stream",
     "text": [
      "<class 'pandas.core.frame.DataFrame'>\n",
      "RangeIndex: 17125 entries, 0 to 17124\n",
      "Data columns (total 3 columns):\n",
      " #   Column       Non-Null Count  Dtype         \n",
      "---  ------       --------------  -----         \n",
      " 0   GKGRECORDID  17125 non-null  object        \n",
      " 1   DATE         17125 non-null  datetime64[ns]\n",
      " 2   content      17125 non-null  object        \n",
      "dtypes: datetime64[ns](1), object(2)\n",
      "memory usage: 85.6 MB\n"
     ]
    }
   ],
   "source": [
    "document_df = document_df.astype({\"DATE\":\"datetime64\"}) \n",
    "document_df.info(memory_usage=\"deep\")"
   ]
  },
  {
   "cell_type": "markdown",
   "metadata": {},
   "source": [
    "### Convert the corpus into time series"
   ]
  },
  {
   "cell_type": "code",
   "execution_count": 12,
   "metadata": {},
   "outputs": [],
   "source": [
    "from sklearn.feature_extraction.text import CountVectorizer"
   ]
  },
  {
   "cell_type": "code",
   "execution_count": 13,
   "metadata": {},
   "outputs": [
    {
     "name": "stderr",
     "output_type": "stream",
     "text": [
      "/opt/conda/lib/python3.7/site-packages/sklearn/feature_extraction/text.py:386: UserWarning: Your stop_words may be inconsistent with your preprocessing. Tokenizing the stop words generated tokens ['abov', 'afterward', 'alon', 'alreadi', 'alway', 'ani', 'anoth', 'anyon', 'anyth', 'anywher', 'becam', 'becaus', 'becom', 'befor', 'besid', 'cri', 'describ', 'dure', 'els', 'elsewher', 'empti', 'everi', 'everyon', 'everyth', 'everywher', 'fifti', 'formerli', 'forti', 'ha', 'henc', 'hereaft', 'herebi', 'hi', 'howev', 'hundr', 'inde', 'latterli', 'mani', 'meanwhil', 'moreov', 'mostli', 'nobodi', 'noon', 'noth', 'nowher', 'onc', 'onli', 'otherwis', 'ourselv', 'perhap', 'pleas', 'seriou', 'sever', 'sinc', 'sincer', 'sixti', 'someon', 'someth', 'sometim', 'somewher', 'themselv', 'thenc', 'thereaft', 'therebi', 'therefor', 'thi', 'thu', 'togeth', 'twelv', 'twenti', 'veri', 'wa', 'whatev', 'whenc', 'whenev', 'wherea', 'whereaft', 'wherebi', 'wherev', 'whi', 'yourselv'] not in stop_words.\n",
      "  'stop_words.' % sorted(inconsistent))\n"
     ]
    }
   ],
   "source": [
    "import re\n",
    "from nltk.stem import WordNetLemmatizer \n",
    "from nltk.stem import PorterStemmer, LancasterStemmer\n",
    "\n",
    "def preprocess_text(text):\n",
    "    text = text.lower()\n",
    "    # remove numbers\n",
    "    text = re.sub(r'\\d+', '', text)\n",
    "    return text\n",
    "\n",
    "class CustomVectorizer(CountVectorizer):\n",
    "    def build_tokenizer(self):\n",
    "        tokenize = super().build_tokenizer()\n",
    "#         wnl = WordNetLemmatizer()\n",
    "#         return lambda doc: [wnl.lemmatize(t) for t in tokenize(doc)]\n",
    "        porter = PorterStemmer()\n",
    "        return lambda doc: [porter.stem(t) for t in tokenize(doc)]\n",
    "\n",
    "\n",
    "vectorizer = CustomVectorizer(preprocessor=preprocess_text, stop_words=\"english\", min_df=0.02)\n",
    "\n",
    "# experiment model with target leakage\n",
    "tf_sparse = vectorizer.fit_transform(document_df[\"content\"])"
   ]
  },
  {
   "cell_type": "code",
   "execution_count": 14,
   "metadata": {},
   "outputs": [
    {
     "data": {
      "text/plain": [
       "<17125x1536 sparse matrix of type '<class 'numpy.int64'>'\n",
       "\twith 2106896 stored elements in Compressed Sparse Row format>"
      ]
     },
     "execution_count": 14,
     "metadata": {},
     "output_type": "execute_result"
    }
   ],
   "source": [
    "tf_sparse"
   ]
  },
  {
   "cell_type": "code",
   "execution_count": 7,
   "metadata": {},
   "outputs": [],
   "source": [
    "from nltk.stem import WordNetLemmatizer \n",
    "from nltk.stem import PorterStemmer, LancasterStemmer\n",
    "\n",
    "wnl = WordNetLemmatizer()\n",
    "output = [wnl.lemmatize(t, pos=\"v\") for t in [\"achieve\", \"achieved\"]]\n",
    "\n",
    "porter = PorterStemmer()\n",
    "output = [porter.stem(t) for t in [\"achieve\", \"achieved\"]]"
   ]
  },
  {
   "cell_type": "code",
   "execution_count": 15,
   "metadata": {},
   "outputs": [
    {
     "data": {
      "text/plain": [
       "['abandon',\n",
       " 'abil',\n",
       " 'abl',\n",
       " 'abov',\n",
       " 'abroad',\n",
       " 'acceler',\n",
       " 'accept',\n",
       " 'access',\n",
       " 'accord',\n",
       " 'account']"
      ]
     },
     "execution_count": 15,
     "metadata": {},
     "output_type": "execute_result"
    }
   ],
   "source": [
    "vectorizer.get_feature_names()[:10]"
   ]
  },
  {
   "cell_type": "code",
   "execution_count": 16,
   "metadata": {},
   "outputs": [
    {
     "name": "stdout",
     "output_type": "stream",
     "text": [
      "The FTSE 100 soared to a record high last week, but private share buyers believe politicians need to do more to encourage stock market investment, and most believe politicians do not do enough to support them. The blue-chip index of top London stock ended last week at 6945 – finally surpassing the peak hit during the dotcom boom at the end of 1999. Although a boon to many private share investors, a survey by The Share Centre, a leading stock broker, found the majority of people still felt that they were undervalued by government. The survey of 1,000 investors found that almost three-quarters did not believe any political party was sympathetic to their needs and more than half said they would be swayed to vote for a party that addressed their interests. The biggest single issue was the complexity of the tax system – 68 per cent said they would like taxation to be made simpler. Almost as many (61 per cent) said they would like tax on pension schemes to be reduced – a potential blow to Ed Miliband after his announcement last week that he would increase taxes on large pension pots to pay for a cut in university tuition fees. But Richard Stone, chief executive of The Share Centre, said the survey showed that investors were concerned that an inconclusive election result would create market turmoil. ‘We asked people what they thought the most likely outcome would be and 34 per cent said they expected another coalition and 28 per cent said they expected a minority government. That tells me they are bracing themselves for more volatility in the market.’ The survey also found that investors wanted to see cuts to the stamp duty on shares, a reduction in inheritance tax and a cut to capital gains tax. \n"
     ]
    },
    {
     "data": {
      "text/plain": [
       "['ftse',\n",
       " 'soar',\n",
       " 'record',\n",
       " 'high',\n",
       " 'week',\n",
       " 'privat',\n",
       " 'share',\n",
       " 'buyer',\n",
       " 'believ',\n",
       " 'politician',\n",
       " 'need',\n",
       " 'encourag',\n",
       " 'stock',\n",
       " 'market',\n",
       " 'invest',\n",
       " 'believ',\n",
       " 'politician',\n",
       " 'support',\n",
       " 'blue',\n",
       " 'chip']"
      ]
     },
     "execution_count": 16,
     "metadata": {},
     "output_type": "execute_result"
    }
   ],
   "source": [
    "# to inspect how well the default analyzer in CountVectorizer performs\n",
    "analyze = vectorizer.build_analyzer()\n",
    "\n",
    "# original document\n",
    "print(document_df[\"content\"].loc[1])\n",
    "\n",
    "# first 20 tokenized terms\n",
    "analyze(document_df[\"content\"].loc[1])[:20]"
   ]
  },
  {
   "cell_type": "code",
   "execution_count": 17,
   "metadata": {},
   "outputs": [],
   "source": [
    "# tf_df = pd.DataFrame.sparse.from_spmatrix(tf_sparse)\n",
    "tf_df = pd.DataFrame(tf_sparse.toarray(), columns=vectorizer.get_feature_names())"
   ]
  },
  {
   "cell_type": "code",
   "execution_count": 18,
   "metadata": {},
   "outputs": [
    {
     "name": "stdout",
     "output_type": "stream",
     "text": [
      "<class 'pandas.core.frame.DataFrame'>\n",
      "RangeIndex: 17125 entries, 0 to 17124\n",
      "Columns: 1536 entries, abandon to zero\n",
      "dtypes: int64(1536)\n",
      "memory usage: 200.7 MB\n"
     ]
    }
   ],
   "source": [
    "tf_df.info()"
   ]
  },
  {
   "cell_type": "code",
   "execution_count": 19,
   "metadata": {},
   "outputs": [],
   "source": [
    "# add the date back to term frequency matrix to aggregate by month\n",
    "tf_df[\"DATE\"] = document_df[\"DATE\"]"
   ]
  },
  {
   "cell_type": "code",
   "execution_count": 20,
   "metadata": {},
   "outputs": [
    {
     "name": "stdout",
     "output_type": "stream",
     "text": [
      "<class 'pandas.core.frame.DataFrame'>\n",
      "RangeIndex: 17125 entries, 0 to 17124\n",
      "Columns: 1537 entries, abandon to DATE\n",
      "dtypes: datetime64[ns](1), int64(1536)\n",
      "memory usage: 200.8 MB\n"
     ]
    }
   ],
   "source": [
    "tf_df.info(memory_usage=\"deep\")"
   ]
  },
  {
   "cell_type": "code",
   "execution_count": 21,
   "metadata": {},
   "outputs": [],
   "source": [
    "monthly_tf_df = tf_df.set_index(\"DATE\").resample(\"MS\").mean()"
   ]
  },
  {
   "cell_type": "code",
   "execution_count": 22,
   "metadata": {},
   "outputs": [
    {
     "name": "stdout",
     "output_type": "stream",
     "text": [
      "<class 'pandas.core.frame.DataFrame'>\n",
      "DatetimeIndex: 67 entries, 2015-03-01 to 2020-09-01\n",
      "Freq: MS\n",
      "Columns: 1536 entries, abandon to zero\n",
      "dtypes: float64(1536)\n",
      "memory usage: 804.5 KB\n"
     ]
    }
   ],
   "source": [
    "monthly_tf_df.info()"
   ]
  },
  {
   "cell_type": "code",
   "execution_count": 23,
   "metadata": {},
   "outputs": [
    {
     "data": {
      "text/html": [
       "<div>\n",
       "<style scoped>\n",
       "    .dataframe tbody tr th:only-of-type {\n",
       "        vertical-align: middle;\n",
       "    }\n",
       "\n",
       "    .dataframe tbody tr th {\n",
       "        vertical-align: top;\n",
       "    }\n",
       "\n",
       "    .dataframe thead th {\n",
       "        text-align: right;\n",
       "    }\n",
       "</style>\n",
       "<table border=\"1\" class=\"dataframe\">\n",
       "  <thead>\n",
       "    <tr style=\"text-align: right;\">\n",
       "      <th></th>\n",
       "      <th>DATE</th>\n",
       "      <th>GDP</th>\n",
       "    </tr>\n",
       "  </thead>\n",
       "  <tbody>\n",
       "    <tr>\n",
       "      <th>0</th>\n",
       "      <td>2015-02-01</td>\n",
       "      <td>0.4</td>\n",
       "    </tr>\n",
       "    <tr>\n",
       "      <th>1</th>\n",
       "      <td>2015-03-01</td>\n",
       "      <td>0.4</td>\n",
       "    </tr>\n",
       "    <tr>\n",
       "      <th>2</th>\n",
       "      <td>2015-04-01</td>\n",
       "      <td>0.6</td>\n",
       "    </tr>\n",
       "    <tr>\n",
       "      <th>3</th>\n",
       "      <td>2015-05-01</td>\n",
       "      <td>0.7</td>\n",
       "    </tr>\n",
       "    <tr>\n",
       "      <th>4</th>\n",
       "      <td>2015-06-01</td>\n",
       "      <td>0.7</td>\n",
       "    </tr>\n",
       "  </tbody>\n",
       "</table>\n",
       "</div>"
      ],
      "text/plain": [
       "         DATE  GDP\n",
       "0  2015-02-01  0.4\n",
       "1  2015-03-01  0.4\n",
       "2  2015-04-01  0.6\n",
       "3  2015-05-01  0.7\n",
       "4  2015-06-01  0.7"
      ]
     },
     "execution_count": 23,
     "metadata": {},
     "output_type": "execute_result"
    }
   ],
   "source": [
    "query=f\"\"\"\n",
    "SELECT DATE, GDP from\n",
    "goldenfleece.final_task.monthly_gdp_lag \n",
    "where DATE >= '2015-02-01'\n",
    "order by DATE\n",
    "\"\"\"\n",
    "gdp_df = client.query(query).to_dataframe()\n",
    "gdp_df.head()"
   ]
  },
  {
   "cell_type": "code",
   "execution_count": 24,
   "metadata": {},
   "outputs": [
    {
     "name": "stdout",
     "output_type": "stream",
     "text": [
      "<class 'pandas.core.frame.DataFrame'>\n",
      "DatetimeIndex: 68 entries, 2015-02-01 to 2020-09-01\n",
      "Data columns (total 1 columns):\n",
      " #   Column  Non-Null Count  Dtype  \n",
      "---  ------  --------------  -----  \n",
      " 0   GDP     68 non-null     float64\n",
      "dtypes: float64(1)\n",
      "memory usage: 1.1 KB\n"
     ]
    }
   ],
   "source": [
    "gdp_df = gdp_df.astype({\"DATE\":\"datetime64\"}).set_index(\"DATE\")\n",
    "gdp_df.info()"
   ]
  },
  {
   "cell_type": "code",
   "execution_count": 25,
   "metadata": {},
   "outputs": [
    {
     "name": "stdout",
     "output_type": "stream",
     "text": [
      "<class 'pandas.core.frame.DataFrame'>\n",
      "RangeIndex: 68 entries, 0 to 67\n",
      "Columns: 1538 entries, DATE to GDP\n",
      "dtypes: datetime64[ns](1), float64(1537)\n",
      "memory usage: 817.2 KB\n"
     ]
    }
   ],
   "source": [
    "# reset index to set DATE as column\n",
    "combined_df = monthly_tf_df.merge(gdp_df, left_index=True, right_index=True, how=\"right\").reset_index()\n",
    "combined_df.info()"
   ]
  },
  {
   "cell_type": "code",
   "execution_count": 26,
   "metadata": {},
   "outputs": [],
   "source": [
    "from cross_validate import cross_validate, build_design_matrix, evaluate_features"
   ]
  },
  {
   "cell_type": "markdown",
   "metadata": {},
   "source": [
    "### Check stationarity assumption\n",
    "\n",
    "From visual inspection, exclude COVID period to satisfy stationarity assumption"
   ]
  },
  {
   "cell_type": "code",
   "execution_count": 29,
   "metadata": {},
   "outputs": [
    {
     "name": "stdout",
     "output_type": "stream",
     "text": [
      "Average RMSE over 18 predictions for 3-month horizon: 0.628\n",
      "Average RMSE over 12 predictions for 6-month horizon: 0.946\n",
      "Average RMSE over 6 predictions for 9-month horizon: 1.262\n",
      "\n",
      "Average RMSE across different horizons: 0.946\n"
     ]
    }
   ],
   "source": [
    "from sklearn.linear_model import LinearRegression, Ridge\n",
    "from sklearn.tree import DecisionTreeRegressor\n",
    "\n",
    "# estimator=LinearRegression()\n",
    "# estimator=Ridge()\n",
    "estimator=DecisionTreeRegressor(random_state=0)\n",
    "\n",
    "rmse_list = []\n",
    "design_df_list = []\n",
    "result_df_list = []\n",
    "for horizon in [3,6,9]:\n",
    "    design_df, result_df = evaluate_features(\n",
    "        combined_df,\n",
    "        date_col=\"DATE\",\n",
    "        var_col=\"GDP\",\n",
    "        horizon=horizon,\n",
    "        estimator=estimator,\n",
    "        initial=36,\n",
    "        period=1,\n",
    "        return_model=True,\n",
    "        start_date=\"2015-03-01\",\n",
    "        end_date=\"2020-03-01\",\n",
    "    )\n",
    "    rmse = (((result_df[\"pred\"] - result_df[\"actual\"]) ** 2).mean()) ** 0.5\n",
    "    rmse_list.append(rmse)\n",
    "    design_df_list.append(design_df)\n",
    "    result_df_list.append(result_df)\n",
    "    print(f\"Average RMSE over {len(result_df)} predictions for {horizon}-month horizon: {rmse:.3f}\")\n",
    "\n",
    "print(f\"\\nAverage RMSE across different horizons: {np.array(rmse_list).mean():.3f}\")"
   ]
  },
  {
   "cell_type": "code",
   "execution_count": 30,
   "metadata": {},
   "outputs": [
    {
     "data": {
      "text/plain": [
       "<AxesSubplot:xlabel='date'>"
      ]
     },
     "execution_count": 30,
     "metadata": {},
     "output_type": "execute_result"
    },
    {
     "data": {
      "image/png": "[encoded data removed]",
      "text/plain": [
       "<Figure size 720x360 with 1 Axes>"
      ]
     },
     "metadata": {},
     "output_type": "display_data"
    }
   ],
   "source": [
    "# check 3-month horizon plot\n",
    "result_df = result_df_list[0]\n",
    "result_df[[\"pred\", \"actual\", \"date\"]].set_index(\"date\").plot(figsize=(10,5))"
   ]
  },
  {
   "cell_type": "code",
   "execution_count": null,
   "metadata": {},
   "outputs": [],
   "source": []
  }
 ],
 "metadata": {
  "environment": {
   "name": "common-cpu.m59",
   "type": "gcloud",
   "uri": "gcr.io/deeplearning-platform-release/base-cpu:m59"
  },
  "kernelspec": {
   "display_name": "Python 3",
   "language": "python",
   "name": "python3"
  },
  "language_info": {
   "codemirror_mode": {
    "name": "ipython",
    "version": 3
   },
   "file_extension": ".py",
   "mimetype": "text/x-python",
   "name": "python",
   "nbconvert_exporter": "python",
   "pygments_lexer": "ipython3",
   "version": "3.7.8"
  }
 },
 "nbformat": 4,
 "nbformat_minor": 4
}
