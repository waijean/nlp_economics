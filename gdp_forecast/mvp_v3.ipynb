{
 "cells": [
  {
   "cell_type": "code",
   "execution_count": 1,
   "metadata": {},
   "outputs": [],
   "source": [
    "from google.cloud import bigquery\n",
    "import pandas as pd\n",
    "import numpy as np\n",
    "import seaborn as sns\n",
    "pd.set_option(\"display.max_rows\", 100)\n",
    "pd.set_option(\"display.max_columns\", None)\n",
    "pd.set_option(\"display.max_colwidth\", None)\n",
    "import matplotlib.pyplot as plt\n",
    "sns.set()"
   ]
  },
  {
   "cell_type": "markdown",
   "metadata": {},
   "source": [
    "### Using term frequency of n-grams across Daily Mail articles which belong to money/markets section"
   ]
  },
  {
   "cell_type": "code",
   "execution_count": 3,
   "metadata": {},
   "outputs": [
    {
     "data": {
      "text/html": [
       "<div>\n",
       "<style scoped>\n",
       "    .dataframe tbody tr th:only-of-type {\n",
       "        vertical-align: middle;\n",
       "    }\n",
       "\n",
       "    .dataframe tbody tr th {\n",
       "        vertical-align: top;\n",
       "    }\n",
       "\n",
       "    .dataframe thead th {\n",
       "        text-align: right;\n",
       "    }\n",
       "</style>\n",
       "<table border=\"1\" class=\"dataframe\">\n",
       "  <thead>\n",
       "    <tr style=\"text-align: right;\">\n",
       "      <th></th>\n",
       "      <th>GKGRECORDID</th>\n",
       "      <th>content</th>\n",
       "    </tr>\n",
       "  </thead>\n",
       "  <tbody>\n",
       "    <tr>\n",
       "      <th>0</th>\n",
       "      <td>20150301010000-1303</td>\n",
       "      <td>Newspaper publisher Trinity Mirror will reveal a fall in profits tomorrow. The Daily Mirror owner is expected to report profits of £100million for last year, down slightly on the previous year, according to investment bank Numis. Investors will also be looking for further guidance on the sums expected to be paid out after phone-hacking claims against the publisher. The company admitted for the first time in September that some of its journalists were involved. Under chief executive Simon Fox, Trinity Mirror said last month it would increase the provisional sum set aside to deal with phone-hacking claims by £8million to £12million. There was also uncertainty over whether or not new allegations would emerge. Trinity has said that it has received a £12million special dividend from Local World, the regional newspaper group in which it has a stake. (The Mail On Sunday publisher DMGT also has a stake.) This is in addition to the £3million it received during 2014, so its initial investment of £14.2million for a 20 per cent stake is more than covered. The publisher has reduced debt to below £20million, while paying £17million of advanced contributions to the pension scheme.</td>\n",
       "    </tr>\n",
       "    <tr>\n",
       "      <th>1</th>\n",
       "      <td>20150301010000-1308</td>\n",
       "      <td>The FTSE 100 soared to a record high last week, but private share buyers believe politicians need to do more to encourage stock market investment, and most believe politicians do not do enough to support them. The blue-chip index of top London stock ended last week at 6945 – finally surpassing the peak hit during the dotcom boom at the end of 1999. Although a boon to many private share investors, a survey by The Share Centre, a leading stock broker, found the majority of people still felt that they were undervalued by government. The survey of 1,000 investors found that almost three-quarters did not believe any political party was sympathetic to their needs and more than half said they would be swayed to vote for a party that addressed their interests. The biggest single issue was the complexity of the tax system – 68 per cent said they would like taxation to be made simpler. Almost as many (61 per cent) said they would like tax on pension schemes to be reduced – a potential blow to Ed Miliband after his announcement last week that he would increase taxes on large pension pots to pay for a cut in university tuition fees. But Richard Stone, chief executive of The Share Centre, said the survey showed that investors were concerned that an inconclusive election result would create market turmoil. ‘We asked people what they thought the most likely outcome would be and 34 per cent said they expected another coalition and 28 per cent said they expected a minority government. That tells me they are bracing themselves for more volatility in the market.’ The survey also found that investors wanted to see cuts to the stamp duty on shares, a reduction in inheritance tax and a cut to capital gains tax.</td>\n",
       "    </tr>\n",
       "    <tr>\n",
       "      <th>2</th>\n",
       "      <td>20150301010000-1311</td>\n",
       "      <td>The broadcaster ITV, which is in talks to buy the production company behind BBC1’s hit show The Voice, will report sharply increased profits this week as boss Adam Crozier’s five-year turnaround plan comes to fruition. ITV is expected to report profits of £648million for 2014, a 22 per cent rise on 2013, said investment bank Credit Suisse. Crozier and chairman Archie Norman took over in 2010 and set out a five-year plan to complete their turnaround strategy. The broadcaster has reduced its dependence on advertising by buying production companies in Europe and the US. Now just 55 per cent of its revenue comes from advertising, compared with more than 75 per cent in 2010. ITV said on Friday it was in exclusive talks to buy Talpa, the production company owned by Dutch reality TV pioneer John de Mol, who created Big Brother. In 2014, ITV’s main television channels, which have shown popular series such as Mr Selfridge and Downton Abbey, are set to have seen advertising revenue rise by 5 per cent, according to investment bank Barclays Capital. In the first quarter of this year alone, it is expected to have risen 11 per cent. ITV is also benefiting from a rise in Government advertising, estimated to have gone up by 20 per cent in the year to March 2015 on the previous 12 months. The results make it likely Crozier will hit performance targets and so will see his pay rise further. Last year, his pay tripled to £8.4million in total.</td>\n",
       "    </tr>\n",
       "    <tr>\n",
       "      <th>3</th>\n",
       "      <td>20150301010000-572</td>\n",
       "      <td>It counts Prince Harry among its customers and now sales at the British arm of US food giant Whole Foods have topped £100million for the first time since launching here ten years ago. There are nine Whole Foods stores in the UK, including in Glasgow, Cheltenham and Richmond, and sales grew by 24 per cent to reach £101.4million in the year to September 28, 2014. However, costs and interest payments mean the company made a pre-tax loss of £7.5million, but this was down on the previous year’s loss of £14.2million. Known for its organic and healthy food options, Whole Foods bought the Fresh &amp; Wild chain in 2004 and launched its first Whole Foods Market, which took over the three-floor former Barkers department store in Kensington, West London, in 2007. It said that like-for-like sales were up 6.8 per cent and it hoped to open more stores and increase sales in existing outlets. Lotus blossoms as travel group's profits take off Peter Stephens, multimillionaire founder of travel operator Lotus Group, declined to take a dividend last year, even though profits jumped by 20 per cent, but took home £2.9million in pay. Profits for the group, whose companies include Dial A Flight, Lotus Travel and SuperTravel Ski, increased from £13.4million to £16.1million in the year to October 31 last year, while turnover was up to £315million. The directors said the group – which also has a charitable arm – had ‘traded well’ and they were ‘very satisfied that the overall performance was in line with the previous year.’</td>\n",
       "    </tr>\n",
       "    <tr>\n",
       "      <th>4</th>\n",
       "      <td>20150302003000-689</td>\n",
       "      <td>Billionaire investor Warren Buffett has admitted being ‘embarrassed’ by taking too long to exit a £1.5billion investment in Tesco as it became mired in an accounting scandal. The indecision meant his Berkshire Hathaway investment company lost £287million on the supermarket giant – one of the biggest losses in its history – despite the stake being just 0.2 per cent of the firm’s value. ‘I made a big mistake with this investment by dawdling,’ Buffett, 84, wrote in his annual letter to shareholders in Berkshire’s 50th year. Buffett also said Berkshire was now in a position to appoint his successor, but did not reveal who this would be. What Buffett said about Tesco 'Attentive readers will notice that Tesco, which last year appeared in the list of our largest common stock investments, is now absent. An attentive investor, I’m embarrassed to report, would have sold Tesco shares earlier. 'I made a big mistake with this investment by dawdling. At the end of 2012 we owned 415 million shares of Tesco, then and now the leading food retailer in the U.K. and an important grocer in other countries as well. 'Our cost for this investment was $2.3 billion, and the market value was a similar amount. 17In 2013, I soured somewhat on the company’s then-management and sold 114 million shares, realizing a profit of $43 million. 'My leisurely pace in making sales would prove expensive. Charlie calls this sort of behavior “thumb-sucking.” (Considering what my delay cost us, he is being kind.) During 2014, Tesco’s problems worsened by the month. 'The company’s market share fell, its margins contracted and accounting problems surfaced. In the world of business, bad news often surfaces serially: You see a cockroach in your kitchen; as the days go by, you meet his relatives. 'We sold Tesco shares throughout the year and are now out of the position. (The company, we should mention, has hired new management, and we wish them well.) 'Our after-tax loss from this investment was $444 million, about 1/5 of 1% of Berkshire’s net worth. In the past 50 years, we have only once realized an investment loss that at the time of sale cost us 2% of our net worth. 'Twice, we experienced 1% losses. All three of these losses occurred in the 1974-1975 period, when we sold stocks that were very cheap in order to buy others we believed to be even cheaper.'</td>\n",
       "    </tr>\n",
       "  </tbody>\n",
       "</table>\n",
       "</div>"
      ],
      "text/plain": [
       "           GKGRECORDID  \\\n",
       "0  20150301010000-1303   \n",
       "1  20150301010000-1308   \n",
       "2  20150301010000-1311   \n",
       "3   20150301010000-572   \n",
       "4   20150302003000-689   \n",
       "\n",
       "                                                                                                                                                                                                                                                                                                                                                                                                                                                                                                                                                                                                                                                                                                                                                                                                                                                                                                                                                                                                                                                                                                                                                                                                                                                                                                                                                                                                                                                                                                                                                                                                                                                                                                                                                                                                                                                                                                                                                                                                                                                                                                                                                                                                                                                                                                                                                                                                                                          content  \n",
       "0                                                                                                                                                                                                                                                                                                                                                                                                                                                                                                                                                                                                                                                                                                                                                                                                                                                                                                                                                                                                                                                                                                                                                                                                               Newspaper publisher Trinity Mirror will reveal a fall in profits tomorrow. The Daily Mirror owner is expected to report profits of £100million for last year, down slightly on the previous year, according to investment bank Numis. Investors will also be looking for further guidance on the sums expected to be paid out after phone-hacking claims against the publisher. The company admitted for the first time in September that some of its journalists were involved. Under chief executive Simon Fox, Trinity Mirror said last month it would increase the provisional sum set aside to deal with phone-hacking claims by £8million to £12million. There was also uncertainty over whether or not new allegations would emerge. Trinity has said that it has received a £12million special dividend from Local World, the regional newspaper group in which it has a stake. (The Mail On Sunday publisher DMGT also has a stake.) This is in addition to the £3million it received during 2014, so its initial investment of £14.2million for a 20 per cent stake is more than covered. The publisher has reduced debt to below £20million, while paying £17million of advanced contributions to the pension scheme.   \n",
       "1                                                                                                                                                                                                                                                                                                                                                                                                                                                                                                                                                                                                                                                         The FTSE 100 soared to a record high last week, but private share buyers believe politicians need to do more to encourage stock market investment, and most believe politicians do not do enough to support them. The blue-chip index of top London stock ended last week at 6945 – finally surpassing the peak hit during the dotcom boom at the end of 1999. Although a boon to many private share investors, a survey by The Share Centre, a leading stock broker, found the majority of people still felt that they were undervalued by government. The survey of 1,000 investors found that almost three-quarters did not believe any political party was sympathetic to their needs and more than half said they would be swayed to vote for a party that addressed their interests. The biggest single issue was the complexity of the tax system – 68 per cent said they would like taxation to be made simpler. Almost as many (61 per cent) said they would like tax on pension schemes to be reduced – a potential blow to Ed Miliband after his announcement last week that he would increase taxes on large pension pots to pay for a cut in university tuition fees. But Richard Stone, chief executive of The Share Centre, said the survey showed that investors were concerned that an inconclusive election result would create market turmoil. ‘We asked people what they thought the most likely outcome would be and 34 per cent said they expected another coalition and 28 per cent said they expected a minority government. That tells me they are bracing themselves for more volatility in the market.’ The survey also found that investors wanted to see cuts to the stamp duty on shares, a reduction in inheritance tax and a cut to capital gains tax.   \n",
       "2                                                                                                                                                                                                                                                                                                                                                                                                                                                                                                                                                                                                                                                                                                                                                                                                                                                                                                                                         The broadcaster ITV, which is in talks to buy the production company behind BBC1’s hit show The Voice, will report sharply increased profits this week as boss Adam Crozier’s five-year turnaround plan comes to fruition. ITV is expected to report profits of £648million for 2014, a 22 per cent rise on 2013, said investment bank Credit Suisse. Crozier and chairman Archie Norman took over in 2010 and set out a five-year plan to complete their turnaround strategy. The broadcaster has reduced its dependence on advertising by buying production companies in Europe and the US. Now just 55 per cent of its revenue comes from advertising, compared with more than 75 per cent in 2010. ITV said on Friday it was in exclusive talks to buy Talpa, the production company owned by Dutch reality TV pioneer John de Mol, who created Big Brother. In 2014, ITV’s main television channels, which have shown popular series such as Mr Selfridge and Downton Abbey, are set to have seen advertising revenue rise by 5 per cent, according to investment bank Barclays Capital. In the first quarter of this year alone, it is expected to have risen 11 per cent. ITV is also benefiting from a rise in Government advertising, estimated to have gone up by 20 per cent in the year to March 2015 on the previous 12 months. The results make it likely Crozier will hit performance targets and so will see his pay rise further. Last year, his pay tripled to £8.4million in total.   \n",
       "3                                                                                                                                                                                                                                                                                                                                                                                                                                                                                                                                                                                                                                                                                                                                                                                                                                                                 It counts Prince Harry among its customers and now sales at the British arm of US food giant Whole Foods have topped £100million for the first time since launching here ten years ago. There are nine Whole Foods stores in the UK, including in Glasgow, Cheltenham and Richmond, and sales grew by 24 per cent to reach £101.4million in the year to September 28, 2014. However, costs and interest payments mean the company made a pre-tax loss of £7.5million, but this was down on the previous year’s loss of £14.2million. Known for its organic and healthy food options, Whole Foods bought the Fresh & Wild chain in 2004 and launched its first Whole Foods Market, which took over the three-floor former Barkers department store in Kensington, West London, in 2007. It said that like-for-like sales were up 6.8 per cent and it hoped to open more stores and increase sales in existing outlets. Lotus blossoms as travel group's profits take off Peter Stephens, multimillionaire founder of travel operator Lotus Group, declined to take a dividend last year, even though profits jumped by 20 per cent, but took home £2.9million in pay. Profits for the group, whose companies include Dial A Flight, Lotus Travel and SuperTravel Ski, increased from £13.4million to £16.1million in the year to October 31 last year, while turnover was up to £315million. The directors said the group – which also has a charitable arm – had ‘traded well’ and they were ‘very satisfied that the overall performance was in line with the previous year.’   \n",
       "4  Billionaire investor Warren Buffett has admitted being ‘embarrassed’ by taking too long to exit a £1.5billion investment in Tesco as it became mired in an accounting scandal. The indecision meant his Berkshire Hathaway investment company lost £287million on the supermarket giant – one of the biggest losses in its history – despite the stake being just 0.2 per cent of the firm’s value. ‘I made a big mistake with this investment by dawdling,’ Buffett, 84, wrote in his annual letter to shareholders in Berkshire’s 50th year. Buffett also said Berkshire was now in a position to appoint his successor, but did not reveal who this would be. What Buffett said about Tesco 'Attentive readers will notice that Tesco, which last year appeared in the list of our largest common stock investments, is now absent. An attentive investor, I’m embarrassed to report, would have sold Tesco shares earlier. 'I made a big mistake with this investment by dawdling. At the end of 2012 we owned 415 million shares of Tesco, then and now the leading food retailer in the U.K. and an important grocer in other countries as well. 'Our cost for this investment was $2.3 billion, and the market value was a similar amount. 17In 2013, I soured somewhat on the company’s then-management and sold 114 million shares, realizing a profit of $43 million. 'My leisurely pace in making sales would prove expensive. Charlie calls this sort of behavior “thumb-sucking.” (Considering what my delay cost us, he is being kind.) During 2014, Tesco’s problems worsened by the month. 'The company’s market share fell, its margins contracted and accounting problems surfaced. In the world of business, bad news often surfaces serially: You see a cockroach in your kitchen; as the days go by, you meet his relatives. 'We sold Tesco shares throughout the year and are now out of the position. (The company, we should mention, has hired new management, and we wish them well.) 'Our after-tax loss from this investment was $444 million, about 1/5 of 1% of Berkshire’s net worth. In the past 50 years, we have only once realized an investment loss that at the time of sale cost us 2% of our net worth. 'Twice, we experienced 1% losses. All three of these losses occurred in the 1974-1975 period, when we sold stocks that were very cheap in order to buy others we believed to be even cheaper.'   "
      ]
     },
     "execution_count": 3,
     "metadata": {},
     "output_type": "execute_result"
    }
   ],
   "source": [
    "client = bigquery.Client()\n",
    "\n",
    "query=f\"\"\"\n",
    "select GKGRECORDID, content from goldenfleece.final_task.daily_mail_2015 \n",
    "where content is not null \n",
    "order by GKGRECORDID;\n",
    "\"\"\"\n",
    "document_df = client.query(query).to_dataframe()\n",
    "document_df.head()"
   ]
  },
  {
   "cell_type": "code",
   "execution_count": 4,
   "metadata": {},
   "outputs": [
    {
     "name": "stdout",
     "output_type": "stream",
     "text": [
      "<class 'pandas.core.frame.DataFrame'>\n",
      "RangeIndex: 17125 entries, 0 to 17124\n",
      "Data columns (total 2 columns):\n",
      " #   Column       Non-Null Count  Dtype \n",
      "---  ------       --------------  ----- \n",
      " 0   GKGRECORDID  17125 non-null  object\n",
      " 1   content      17125 non-null  object\n",
      "dtypes: object(2)\n",
      "memory usage: 85.4 MB\n"
     ]
    }
   ],
   "source": [
    "document_df.info(memory_usage=\"deep\")"
   ]
  },
  {
   "cell_type": "code",
   "execution_count": 35,
   "metadata": {},
   "outputs": [
    {
     "data": {
      "text/html": [
       "<div>\n",
       "<style scoped>\n",
       "    .dataframe tbody tr th:only-of-type {\n",
       "        vertical-align: middle;\n",
       "    }\n",
       "\n",
       "    .dataframe tbody tr th {\n",
       "        vertical-align: top;\n",
       "    }\n",
       "\n",
       "    .dataframe thead th {\n",
       "        text-align: right;\n",
       "    }\n",
       "</style>\n",
       "<table border=\"1\" class=\"dataframe\">\n",
       "  <thead>\n",
       "    <tr style=\"text-align: right;\">\n",
       "      <th></th>\n",
       "      <th>GKGRECORDID</th>\n",
       "      <th>DATE</th>\n",
       "    </tr>\n",
       "  </thead>\n",
       "  <tbody>\n",
       "    <tr>\n",
       "      <th>0</th>\n",
       "      <td>20150301010000-1303</td>\n",
       "      <td>2015-03-01</td>\n",
       "    </tr>\n",
       "    <tr>\n",
       "      <th>1</th>\n",
       "      <td>20150301010000-1308</td>\n",
       "      <td>2015-03-01</td>\n",
       "    </tr>\n",
       "    <tr>\n",
       "      <th>2</th>\n",
       "      <td>20150301010000-1311</td>\n",
       "      <td>2015-03-01</td>\n",
       "    </tr>\n",
       "    <tr>\n",
       "      <th>3</th>\n",
       "      <td>20150301010000-572</td>\n",
       "      <td>2015-03-01</td>\n",
       "    </tr>\n",
       "    <tr>\n",
       "      <th>4</th>\n",
       "      <td>20150302003000-689</td>\n",
       "      <td>2015-03-02</td>\n",
       "    </tr>\n",
       "  </tbody>\n",
       "</table>\n",
       "</div>"
      ],
      "text/plain": [
       "           GKGRECORDID        DATE\n",
       "0  20150301010000-1303  2015-03-01\n",
       "1  20150301010000-1308  2015-03-01\n",
       "2  20150301010000-1311  2015-03-01\n",
       "3   20150301010000-572  2015-03-01\n",
       "4   20150302003000-689  2015-03-02"
      ]
     },
     "execution_count": 35,
     "metadata": {},
     "output_type": "execute_result"
    }
   ],
   "source": [
    "query=f\"\"\"\n",
    "select GKGRECORDID, DATE from goldenfleece.final_task.gkg_daily_mail_v2\n",
    "order by GKGRECORDID;\n",
    "\"\"\"\n",
    "date_df = client.query(query).to_dataframe()\n",
    "date_df.head()"
   ]
  },
  {
   "cell_type": "code",
   "execution_count": 36,
   "metadata": {},
   "outputs": [
    {
     "name": "stdout",
     "output_type": "stream",
     "text": [
      "<class 'pandas.core.frame.DataFrame'>\n",
      "RangeIndex: 17255 entries, 0 to 17254\n",
      "Data columns (total 2 columns):\n",
      " #   Column       Non-Null Count  Dtype         \n",
      "---  ------       --------------  -----         \n",
      " 0   GKGRECORDID  17255 non-null  object        \n",
      " 1   DATE         17255 non-null  datetime64[ns]\n",
      "dtypes: datetime64[ns](1), object(1)\n",
      "memory usage: 1.4 MB\n"
     ]
    }
   ],
   "source": [
    "date_df = date_df.astype({\"DATE\":\"datetime64\"}) \n",
    "# there are duplicate GKGRECORDID: 20160118230000-260 and 20160725233000-684\n",
    "date_df = date_df.drop_duplicates().reset_index(drop=True)\n",
    "date_df.info(memory_usage=\"deep\")"
   ]
  },
  {
   "cell_type": "markdown",
   "metadata": {},
   "source": [
    "### Convert the corpus into time series"
   ]
  },
  {
   "cell_type": "code",
   "execution_count": 5,
   "metadata": {},
   "outputs": [],
   "source": [
    "from sklearn.feature_extraction.text import CountVectorizer"
   ]
  },
  {
   "cell_type": "markdown",
   "metadata": {},
   "source": [
    "#todo remove numbers, apply stemming"
   ]
  },
  {
   "cell_type": "code",
   "execution_count": 29,
   "metadata": {},
   "outputs": [],
   "source": [
    "import re\n",
    "\n",
    "def preprocess_text(text):\n",
    "    text = text.lower()\n",
    "    # remove numbers\n",
    "    text = re.sub(r'\\d+', '', text)\n",
    "    return text\n",
    "\n",
    "vectorizer = CountVectorizer(preprocessor=preprocess_text, stop_words=\"english\", min_df=0.02)\n",
    "\n",
    "# experiment model with target leakage\n",
    "tf_sparse = vectorizer.fit_transform(document_df[\"content\"])"
   ]
  },
  {
   "cell_type": "code",
   "execution_count": 30,
   "metadata": {},
   "outputs": [
    {
     "data": {
      "text/plain": [
       "<17125x1756 sparse matrix of type '<class 'numpy.int64'>'\n",
       "\twith 1943123 stored elements in Compressed Sparse Row format>"
      ]
     },
     "execution_count": 30,
     "metadata": {},
     "output_type": "execute_result"
    }
   ],
   "source": [
    "tf_sparse"
   ]
  },
  {
   "cell_type": "code",
   "execution_count": 39,
   "metadata": {},
   "outputs": [
    {
     "data": {
      "text/plain": [
       "['ability',\n",
       " 'able',\n",
       " 'abroad',\n",
       " 'access',\n",
       " 'according',\n",
       " 'account',\n",
       " 'accounting',\n",
       " 'accounts',\n",
       " 'accused',\n",
       " 'achieve',\n",
       " 'achieved',\n",
       " 'acquired',\n",
       " 'acquisition',\n",
       " 'acquisitions',\n",
       " 'act',\n",
       " 'action',\n",
       " 'activist',\n",
       " 'activity',\n",
       " 'actually',\n",
       " 'add',\n",
       " 'added',\n",
       " 'adding',\n",
       " 'additional',\n",
       " 'address',\n",
       " 'adjusted',\n",
       " 'administration',\n",
       " 'admitted',\n",
       " 'advanced',\n",
       " 'advantage',\n",
       " 'advertising',\n",
       " 'advice',\n",
       " 'advisers',\n",
       " 'affected',\n",
       " 'africa',\n",
       " 'african',\n",
       " 'afternoon',\n",
       " 'agency',\n",
       " 'ago',\n",
       " 'agree',\n",
       " 'agreed',\n",
       " 'agreement',\n",
       " 'ahead',\n",
       " 'aim',\n",
       " 'aimed',\n",
       " 'air',\n",
       " 'aircraft',\n",
       " 'airline',\n",
       " 'airlines',\n",
       " 'airport',\n",
       " 'airways',\n",
       " 'aj',\n",
       " 'aldi',\n",
       " 'allegations',\n",
       " 'allow',\n",
       " 'allowed',\n",
       " 'allowing',\n",
       " 'allows',\n",
       " 'alongside',\n",
       " 'alternative',\n",
       " 'amazon',\n",
       " 'america',\n",
       " 'american',\n",
       " 'amid',\n",
       " 'analyst',\n",
       " 'analysts',\n",
       " 'andrew',\n",
       " 'andy',\n",
       " 'anglo',\n",
       " 'announce',\n",
       " 'announced',\n",
       " 'announcement',\n",
       " 'announcing',\n",
       " 'annual',\n",
       " 'anticipated',\n",
       " 'antofagasta',\n",
       " 'app',\n",
       " 'appear',\n",
       " 'appeared',\n",
       " 'appears',\n",
       " 'apple',\n",
       " 'appointed',\n",
       " 'appointment',\n",
       " 'approach',\n",
       " 'approval',\n",
       " 'approved',\n",
       " 'april',\n",
       " 'area',\n",
       " 'areas',\n",
       " 'arm',\n",
       " 'asda',\n",
       " 'ashley',\n",
       " 'asia',\n",
       " 'asian',\n",
       " 'aside',\n",
       " 'asked',\n",
       " 'asset',\n",
       " 'assets',\n",
       " 'associated',\n",
       " 'association',\n",
       " 'attack']"
      ]
     },
     "execution_count": 39,
     "metadata": {},
     "output_type": "execute_result"
    }
   ],
   "source": [
    "vectorizer.get_feature_names()[:100]"
   ]
  },
  {
   "cell_type": "code",
   "execution_count": 37,
   "metadata": {},
   "outputs": [
    {
     "name": "stdout",
     "output_type": "stream",
     "text": [
      "Billionaire investor Warren Buffett has admitted being ‘embarrassed’ by taking too long to exit a £1.5billion investment in Tesco as it became mired in an accounting scandal. The indecision meant his Berkshire Hathaway investment company lost £287million on the supermarket giant – one of the biggest losses in its history – despite the stake being just 0.2 per cent of the firm’s value. ‘I made a big mistake with this investment by dawdling,’ Buffett, 84, wrote in his annual letter to shareholders in Berkshire’s 50th year. Buffett also said Berkshire was now in a position to appoint his successor, but did not reveal who this would be. What Buffett said about Tesco 'Attentive readers will notice that Tesco, which last year appeared in the list of our largest common stock investments, is now absent. An attentive investor, I’m embarrassed to report, would have sold Tesco shares earlier. 'I made a big mistake with this investment by dawdling. At the end of 2012 we owned 415 million shares of Tesco, then and now the leading food retailer in the U.K. and an important grocer in other countries as well. 'Our cost for this investment was $2.3 billion, and the market value was a similar amount. 17In 2013, I soured somewhat on the company’s then-management and sold 114 million shares, realizing a profit of $43 million. 'My leisurely pace in making sales would prove expensive. Charlie calls this sort of behavior “thumb-sucking.” (Considering what my delay cost us, he is being kind.) During 2014, Tesco’s problems worsened by the month. 'The company’s market share fell, its margins contracted and accounting problems surfaced. In the world of business, bad news often surfaces serially: You see a cockroach in your kitchen; as the days go by, you meet his relatives. 'We sold Tesco shares throughout the year and are now out of the position. (The company, we should mention, has hired new management, and we wish them well.) 'Our after-tax loss from this investment was $444 million, about 1/5 of 1% of Berkshire’s net worth. In the past 50 years, we have only once realized an investment loss that at the time of sale cost us 2% of our net worth. 'Twice, we experienced 1% losses. All three of these losses occurred in the 1974-1975 period, when we sold stocks that were very cheap in order to buy others we believed to be even cheaper.' \n"
     ]
    },
    {
     "data": {
      "text/plain": [
       "['billionaire',\n",
       " 'investor',\n",
       " 'warren',\n",
       " 'buffett',\n",
       " 'admitted',\n",
       " 'embarrassed',\n",
       " 'taking',\n",
       " 'long',\n",
       " 'exit',\n",
       " 'billion',\n",
       " 'investment',\n",
       " 'tesco',\n",
       " 'mired',\n",
       " 'accounting',\n",
       " 'scandal',\n",
       " 'indecision',\n",
       " 'meant',\n",
       " 'berkshire',\n",
       " 'hathaway',\n",
       " 'investment']"
      ]
     },
     "execution_count": 37,
     "metadata": {},
     "output_type": "execute_result"
    }
   ],
   "source": [
    "# to inspect how well the default analyzer in CountVectorizer performs\n",
    "analyze = vectorizer.build_analyzer()\n",
    "\n",
    "# original document\n",
    "print(document_df[\"content\"].loc[4])\n",
    "\n",
    "# first 20 tokenized terms\n",
    "analyze(document_df[\"content\"].loc[4])[:20]"
   ]
  },
  {
   "cell_type": "code",
   "execution_count": 32,
   "metadata": {},
   "outputs": [],
   "source": [
    "# tf_df = pd.DataFrame.sparse.from_spmatrix(tf_sparse)\n",
    "tf_df = pd.DataFrame(tf_sparse.toarray(), columns=vectorizer.get_feature_names())"
   ]
  },
  {
   "cell_type": "code",
   "execution_count": 33,
   "metadata": {},
   "outputs": [
    {
     "name": "stdout",
     "output_type": "stream",
     "text": [
      "<class 'pandas.core.frame.DataFrame'>\n",
      "RangeIndex: 17125 entries, 0 to 17124\n",
      "Columns: 1756 entries, ability to zero\n",
      "dtypes: int64(1756)\n",
      "memory usage: 229.4 MB\n"
     ]
    }
   ],
   "source": [
    "tf_df.info()"
   ]
  },
  {
   "cell_type": "code",
   "execution_count": 40,
   "metadata": {},
   "outputs": [],
   "source": [
    "# add the record_id to term frequency matrix to join with date_df\n",
    "tf_df[\"GKGRECORDID\"] = document_df[\"GKGRECORDID\"]"
   ]
  },
  {
   "cell_type": "code",
   "execution_count": 41,
   "metadata": {},
   "outputs": [
    {
     "name": "stdout",
     "output_type": "stream",
     "text": [
      "<class 'pandas.core.frame.DataFrame'>\n",
      "RangeIndex: 17125 entries, 0 to 17124\n",
      "Columns: 1757 entries, ability to GKGRECORDID\n",
      "dtypes: int64(1756), object(1)\n",
      "memory usage: 230.7 MB\n"
     ]
    }
   ],
   "source": [
    "tf_df.info(memory_usage=\"deep\")"
   ]
  },
  {
   "cell_type": "code",
   "execution_count": 42,
   "metadata": {},
   "outputs": [],
   "source": [
    "merged_df = (tf_df.merge(date_df, how=\"left\", left_on=\"GKGRECORDID\", right_on=\"GKGRECORDID\", validate=\"many_to_one\")\n",
    "                 .drop(columns=\"GKGRECORDID\"))"
   ]
  },
  {
   "cell_type": "code",
   "execution_count": 43,
   "metadata": {},
   "outputs": [
    {
     "name": "stdout",
     "output_type": "stream",
     "text": [
      "<class 'pandas.core.frame.DataFrame'>\n",
      "Int64Index: 17125 entries, 0 to 17124\n",
      "Columns: 1757 entries, ability to DATE\n",
      "dtypes: datetime64[ns](1), int64(1756)\n",
      "memory usage: 229.7 MB\n"
     ]
    }
   ],
   "source": [
    "merged_df.info()"
   ]
  },
  {
   "cell_type": "code",
   "execution_count": 44,
   "metadata": {},
   "outputs": [],
   "source": [
    "X = merged_df.set_index(\"DATE\").resample(\"MS\").mean()"
   ]
  },
  {
   "cell_type": "code",
   "execution_count": 46,
   "metadata": {},
   "outputs": [
    {
     "name": "stdout",
     "output_type": "stream",
     "text": [
      "<class 'pandas.core.frame.DataFrame'>\n",
      "DatetimeIndex: 67 entries, 2015-03-01 to 2020-09-01\n",
      "Freq: MS\n",
      "Columns: 1756 entries, ability to zero\n",
      "dtypes: float64(1756)\n",
      "memory usage: 919.7 KB\n"
     ]
    }
   ],
   "source": [
    "X.info()"
   ]
  },
  {
   "cell_type": "code",
   "execution_count": 47,
   "metadata": {},
   "outputs": [
    {
     "data": {
      "text/html": [
       "<div>\n",
       "<style scoped>\n",
       "    .dataframe tbody tr th:only-of-type {\n",
       "        vertical-align: middle;\n",
       "    }\n",
       "\n",
       "    .dataframe tbody tr th {\n",
       "        vertical-align: top;\n",
       "    }\n",
       "\n",
       "    .dataframe thead th {\n",
       "        text-align: right;\n",
       "    }\n",
       "</style>\n",
       "<table border=\"1\" class=\"dataframe\">\n",
       "  <thead>\n",
       "    <tr style=\"text-align: right;\">\n",
       "      <th></th>\n",
       "      <th>DATE</th>\n",
       "      <th>GDP</th>\n",
       "    </tr>\n",
       "  </thead>\n",
       "  <tbody>\n",
       "    <tr>\n",
       "      <th>0</th>\n",
       "      <td>2015-02-01</td>\n",
       "      <td>0.4</td>\n",
       "    </tr>\n",
       "    <tr>\n",
       "      <th>1</th>\n",
       "      <td>2015-03-01</td>\n",
       "      <td>0.4</td>\n",
       "    </tr>\n",
       "    <tr>\n",
       "      <th>2</th>\n",
       "      <td>2015-04-01</td>\n",
       "      <td>0.6</td>\n",
       "    </tr>\n",
       "    <tr>\n",
       "      <th>3</th>\n",
       "      <td>2015-05-01</td>\n",
       "      <td>0.7</td>\n",
       "    </tr>\n",
       "    <tr>\n",
       "      <th>4</th>\n",
       "      <td>2015-06-01</td>\n",
       "      <td>0.7</td>\n",
       "    </tr>\n",
       "  </tbody>\n",
       "</table>\n",
       "</div>"
      ],
      "text/plain": [
       "         DATE  GDP\n",
       "0  2015-02-01  0.4\n",
       "1  2015-03-01  0.4\n",
       "2  2015-04-01  0.6\n",
       "3  2015-05-01  0.7\n",
       "4  2015-06-01  0.7"
      ]
     },
     "execution_count": 47,
     "metadata": {},
     "output_type": "execute_result"
    }
   ],
   "source": [
    "query=f\"\"\"\n",
    "SELECT DATE, GDP from\n",
    "goldenfleece.final_task.monthly_gdp_lag \n",
    "where DATE >= '2015-02-01'\n",
    "order by DATE\n",
    "\"\"\"\n",
    "gdp_df = client.query(query).to_dataframe()\n",
    "gdp_df.head()"
   ]
  },
  {
   "cell_type": "code",
   "execution_count": 49,
   "metadata": {},
   "outputs": [
    {
     "name": "stdout",
     "output_type": "stream",
     "text": [
      "<class 'pandas.core.frame.DataFrame'>\n",
      "DatetimeIndex: 68 entries, 2015-02-01 to 2020-09-01\n",
      "Data columns (total 1 columns):\n",
      " #   Column  Non-Null Count  Dtype  \n",
      "---  ------  --------------  -----  \n",
      " 0   GDP     68 non-null     float64\n",
      "dtypes: float64(1)\n",
      "memory usage: 1.1 KB\n"
     ]
    }
   ],
   "source": [
    "gdp_df = gdp_df.astype({\"DATE\":\"datetime64\"}).set_index(\"DATE\")\n",
    "gdp_df.info()"
   ]
  },
  {
   "cell_type": "code",
   "execution_count": 55,
   "metadata": {},
   "outputs": [
    {
     "name": "stdout",
     "output_type": "stream",
     "text": [
      "<class 'pandas.core.frame.DataFrame'>\n",
      "RangeIndex: 68 entries, 0 to 67\n",
      "Columns: 1758 entries, DATE to GDP\n",
      "dtypes: datetime64[ns](1), float64(1757)\n",
      "memory usage: 934.1 KB\n"
     ]
    }
   ],
   "source": [
    "combined_df = X.merge(gdp_df, left_index=True, right_index=True, how=\"right\").reset_index()\n",
    "combined_df.info()"
   ]
  },
  {
   "cell_type": "code",
   "execution_count": 53,
   "metadata": {},
   "outputs": [],
   "source": [
    "from cross_validate import cross_validate, build_design_matrix"
   ]
  },
  {
   "cell_type": "markdown",
   "metadata": {},
   "source": [
    "### Check stationarity assumption\n",
    "\n",
    "From visual inspection, exclude COVID period to satisfy stationarity assumption"
   ]
  },
  {
   "cell_type": "code",
   "execution_count": 74,
   "metadata": {},
   "outputs": [],
   "source": [
    "feature_cols = [col for col in combined_df.columns if col not in (\"DATE\", \"GDP\", \"target\")]\n",
    "assert len(feature_cols) == 1756 - 1"
   ]
  },
  {
   "cell_type": "code",
   "execution_count": 78,
   "metadata": {},
   "outputs": [
    {
     "name": "stdout",
     "output_type": "stream",
     "text": [
      "Average RMSE over 20 predictions for 3-month horizon: 2.627\n",
      "Average RMSE over 17 predictions for 6-month horizon: 7.496\n",
      "Average RMSE over 13 predictions for 9-month horizon: 9.778\n",
      "\n",
      "Average RMSE across different horizons: 6.634\n"
     ]
    }
   ],
   "source": [
    "from sklearn.linear_model import LinearRegression, Ridge\n",
    "\n",
    "lr=LinearRegression()\n",
    "ridge = Ridge(random_state=0)\n",
    "\n",
    "rmse_list = []\n",
    "for horizon in [3,6,9]:\n",
    "    design_df = build_design_matrix(combined_df, \"DATE\", \"GDP\", horizon=horizon, start_date=\"2015-03-01\", end_date=\"2020-01-01\")\n",
    "    \n",
    "    result_df = cross_validate(\n",
    "        design_df,\n",
    "        ridge,\n",
    "        initial=36,\n",
    "        period=1,\n",
    "        horizon=horizon,\n",
    "        date_col=\"DATE\",\n",
    "        feature_cols=feature_cols + [\"target_lag\"],\n",
    "        target_col=\"target\",\n",
    "    )\n",
    "    rmse = (((result_df[\"pred\"] - result_df[\"actual\"]) ** 2).mean()) ** 0.5\n",
    "    rmse_list.append(rmse)\n",
    "    print(f\"Average RMSE over {len(result_df)} predictions for {horizon}-month horizon: {rmse:.3f}\")\n",
    "\n",
    "print(f\"\\nAverage RMSE across different horizons: {np.array(rmse_list).mean():.3f}\")"
   ]
  },
  {
   "cell_type": "code",
   "execution_count": 79,
   "metadata": {},
   "outputs": [
    {
     "data": {
      "text/plain": [
       "<AxesSubplot:xlabel='date'>"
      ]
     },
     "execution_count": 79,
     "metadata": {},
     "output_type": "execute_result"
    },
    {
     "data": {
      "image/png": "[encoded data removed]",
      "text/plain": [
       "<Figure size 720x360 with 1 Axes>"
      ]
     },
     "metadata": {},
     "output_type": "display_data"
    }
   ],
   "source": [
    "result_df[[\"pred\", \"actual\", \"date\"]].set_index(\"date\").plot(figsize=(10,5))"
   ]
  },
  {
   "cell_type": "code",
   "execution_count": null,
   "metadata": {},
   "outputs": [],
   "source": []
  }
 ],
 "metadata": {
  "environment": {
   "name": "common-cpu.m59",
   "type": "gcloud",
   "uri": "gcr.io/deeplearning-platform-release/base-cpu:m59"
  },
  "kernelspec": {
   "display_name": "Python 3",
   "language": "python",
   "name": "python3"
  },
  "language_info": {
   "codemirror_mode": {
    "name": "ipython",
    "version": 3
   },
   "file_extension": ".py",
   "mimetype": "text/x-python",
   "name": "python",
   "nbconvert_exporter": "python",
   "pygments_lexer": "ipython3",
   "version": "3.7.8"
  }
 },
 "nbformat": 4,
 "nbformat_minor": 4
}
