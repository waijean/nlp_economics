{
 "cells": [
  {
   "cell_type": "code",
   "execution_count": 1,
   "metadata": {},
   "outputs": [],
   "source": [
    "from google.cloud import bigquery\n",
    "import pandas as pd\n",
    "import numpy as np\n",
    "import seaborn as sns\n",
    "pd.set_option(\"display.max_rows\", 100)\n",
    "pd.set_option(\"display.max_columns\", None)\n",
    "pd.set_option(\"display.max_colwidth\", None)\n",
    "import matplotlib.pyplot as plt\n",
    "sns.set()"
   ]
  },
  {
   "cell_type": "markdown",
   "metadata": {},
   "source": [
    "### Using term frequency of n-grams across tv shows (with pre-defined vocabulary)"
   ]
  },
  {
   "cell_type": "code",
   "execution_count": 23,
   "metadata": {},
   "outputs": [
    {
     "data": {
      "text/html": [
       "<div>\n",
       "<style scoped>\n",
       "    .dataframe tbody tr th:only-of-type {\n",
       "        vertical-align: middle;\n",
       "    }\n",
       "\n",
       "    .dataframe tbody tr th {\n",
       "        vertical-align: top;\n",
       "    }\n",
       "\n",
       "    .dataframe thead th {\n",
       "        text-align: right;\n",
       "    }\n",
       "</style>\n",
       "<table border=\"1\" class=\"dataframe\">\n",
       "  <thead>\n",
       "    <tr style=\"text-align: right;\">\n",
       "      <th></th>\n",
       "      <th>DATE</th>\n",
       "      <th>NGRAM</th>\n",
       "      <th>COUNT</th>\n",
       "    </tr>\n",
       "  </thead>\n",
       "  <tbody>\n",
       "    <tr>\n",
       "      <th>0</th>\n",
       "      <td>2013-12-01</td>\n",
       "      <td>no</td>\n",
       "      <td>10.942748</td>\n",
       "    </tr>\n",
       "    <tr>\n",
       "      <th>1</th>\n",
       "      <td>2013-12-01</td>\n",
       "      <td>ass</td>\n",
       "      <td>1.600000</td>\n",
       "    </tr>\n",
       "    <tr>\n",
       "      <th>2</th>\n",
       "      <td>2013-12-01</td>\n",
       "      <td>bad</td>\n",
       "      <td>3.431818</td>\n",
       "    </tr>\n",
       "  </tbody>\n",
       "</table>\n",
       "</div>"
      ],
      "text/plain": [
       "         DATE NGRAM      COUNT\n",
       "0  2013-12-01    no  10.942748\n",
       "1  2013-12-01   ass   1.600000\n",
       "2  2013-12-01   bad   3.431818"
      ]
     },
     "execution_count": 23,
     "metadata": {},
     "output_type": "execute_result"
    }
   ],
   "source": [
    "client = bigquery.Client()\n",
    "\n",
    "query=f\"\"\"\n",
    "select *\n",
    "from goldenfleece.final_task.tv_1grams_monthly_bloomberg\n",
    "order by DATE\n",
    "\"\"\"\n",
    "document_df = client.query(query).to_dataframe()\n",
    "document_df.head(3)"
   ]
  },
  {
   "cell_type": "code",
   "execution_count": 24,
   "metadata": {},
   "outputs": [
    {
     "name": "stdout",
     "output_type": "stream",
     "text": [
      "<class 'pandas.core.frame.DataFrame'>\n",
      "RangeIndex: 403901 entries, 0 to 403900\n",
      "Data columns (total 3 columns):\n",
      " #   Column  Non-Null Count   Dtype         \n",
      "---  ------  --------------   -----         \n",
      " 0   DATE    403901 non-null  datetime64[ns]\n",
      " 1   NGRAM   403901 non-null  object        \n",
      " 2   COUNT   403901 non-null  float64       \n",
      "dtypes: datetime64[ns](1), float64(1), object(1)\n",
      "memory usage: 31.2 MB\n"
     ]
    }
   ],
   "source": [
    "document_df = document_df.astype({\"DATE\":\"datetime64\"}) \n",
    "document_df.info(memory_usage=\"deep\")"
   ]
  },
  {
   "cell_type": "code",
   "execution_count": 25,
   "metadata": {},
   "outputs": [
    {
     "name": "stderr",
     "output_type": "stream",
     "text": [
      "/opt/conda/lib/python3.7/site-packages/ipykernel_launcher.py:1: FutureWarning: Treating datetime data as categorical rather than numeric in `.describe` is deprecated and will be removed in a future version of pandas. Specify `datetime_is_numeric=True` to silence this warning and adopt the future behavior now.\n",
      "  \"\"\"Entry point for launching an IPython kernel.\n"
     ]
    },
    {
     "data": {
      "text/plain": [
       "count                  403901\n",
       "unique                     85\n",
       "top       2016-06-01 00:00:00\n",
       "freq                     5000\n",
       "first     2013-12-01 00:00:00\n",
       "last      2020-12-01 00:00:00\n",
       "Name: DATE, dtype: object"
      ]
     },
     "execution_count": 25,
     "metadata": {},
     "output_type": "execute_result"
    }
   ],
   "source": [
    "document_df.DATE.describe()"
   ]
  },
  {
   "cell_type": "code",
   "execution_count": 26,
   "metadata": {},
   "outputs": [],
   "source": [
    "tf_df = pd.pivot_table(document_df, values=\"COUNT\", index=\"DATE\", columns=\"NGRAM\", aggfunc=np.mean, fill_value=0)"
   ]
  },
  {
   "cell_type": "code",
   "execution_count": 27,
   "metadata": {},
   "outputs": [
    {
     "name": "stdout",
     "output_type": "stream",
     "text": [
      "<class 'pandas.core.frame.DataFrame'>\n",
      "DatetimeIndex: 85 entries, 2013-12-01 to 2020-12-01\n",
      "Columns: 6941 entries, 144a to zone\n",
      "dtypes: float64(6007), int64(934)\n",
      "memory usage: 4.5 MB\n"
     ]
    }
   ],
   "source": [
    "tf_df.info()"
   ]
  },
  {
   "cell_type": "code",
   "execution_count": 28,
   "metadata": {},
   "outputs": [
    {
     "data": {
      "text/html": [
       "<div>\n",
       "<style scoped>\n",
       "    .dataframe tbody tr th:only-of-type {\n",
       "        vertical-align: middle;\n",
       "    }\n",
       "\n",
       "    .dataframe tbody tr th {\n",
       "        vertical-align: top;\n",
       "    }\n",
       "\n",
       "    .dataframe thead th {\n",
       "        text-align: right;\n",
       "    }\n",
       "</style>\n",
       "<table border=\"1\" class=\"dataframe\">\n",
       "  <thead>\n",
       "    <tr style=\"text-align: right;\">\n",
       "      <th></th>\n",
       "      <th>DATE</th>\n",
       "      <th>CPI</th>\n",
       "      <th>UNEMPLOYMENT</th>\n",
       "      <th>GDP</th>\n",
       "    </tr>\n",
       "  </thead>\n",
       "  <tbody>\n",
       "    <tr>\n",
       "      <th>0</th>\n",
       "      <td>2009-01-01</td>\n",
       "      <td>84.9</td>\n",
       "      <td>6.7</td>\n",
       "      <td>-2.0</td>\n",
       "    </tr>\n",
       "    <tr>\n",
       "      <th>1</th>\n",
       "      <td>2009-02-01</td>\n",
       "      <td>85.6</td>\n",
       "      <td>7.1</td>\n",
       "      <td>-1.5</td>\n",
       "    </tr>\n",
       "    <tr>\n",
       "      <th>2</th>\n",
       "      <td>2009-03-01</td>\n",
       "      <td>85.8</td>\n",
       "      <td>7.3</td>\n",
       "      <td>-1.6</td>\n",
       "    </tr>\n",
       "    <tr>\n",
       "      <th>3</th>\n",
       "      <td>2009-04-01</td>\n",
       "      <td>86.0</td>\n",
       "      <td>7.6</td>\n",
       "      <td>-1.1</td>\n",
       "    </tr>\n",
       "    <tr>\n",
       "      <th>4</th>\n",
       "      <td>2009-05-01</td>\n",
       "      <td>86.4</td>\n",
       "      <td>7.8</td>\n",
       "      <td>-1.0</td>\n",
       "    </tr>\n",
       "  </tbody>\n",
       "</table>\n",
       "</div>"
      ],
      "text/plain": [
       "         DATE   CPI  UNEMPLOYMENT  GDP\n",
       "0  2009-01-01  84.9           6.7 -2.0\n",
       "1  2009-02-01  85.6           7.1 -1.5\n",
       "2  2009-03-01  85.8           7.3 -1.6\n",
       "3  2009-04-01  86.0           7.6 -1.1\n",
       "4  2009-05-01  86.4           7.8 -1.0"
      ]
     },
     "execution_count": 28,
     "metadata": {},
     "output_type": "execute_result"
    }
   ],
   "source": [
    "query=\"\"\"\n",
    "-- join gdp, inflation, unemployment table\n",
    "select a.date as DATE, a.cpi as CPI, b.unemployment AS UNEMPLOYMENT, c.GDP from \n",
    "(select date, cpi from goldenfleece.final_task.target_cpi_all_items) a\n",
    "inner join (select date, unemployment from goldenfleece.final_task.target_unemployment) b\n",
    "on a.date = b.date\n",
    "inner join (select DATE, GDP from goldenfleece.final_task.monthly_gdp_lag) c\n",
    "on b.date = c.date\n",
    "order by a.date\n",
    "\"\"\"\n",
    "target_df = client.query(query).to_dataframe()\n",
    "target_df.head()"
   ]
  },
  {
   "cell_type": "code",
   "execution_count": 29,
   "metadata": {},
   "outputs": [
    {
     "name": "stdout",
     "output_type": "stream",
     "text": [
      "<class 'pandas.core.frame.DataFrame'>\n",
      "DatetimeIndex: 140 entries, 2009-01-01 to 2020-08-01\n",
      "Data columns (total 3 columns):\n",
      " #   Column        Non-Null Count  Dtype  \n",
      "---  ------        --------------  -----  \n",
      " 0   CPI           140 non-null    float64\n",
      " 1   UNEMPLOYMENT  140 non-null    float64\n",
      " 2   GDP           140 non-null    float64\n",
      "dtypes: float64(3)\n",
      "memory usage: 4.4 KB\n"
     ]
    }
   ],
   "source": [
    "target_df = target_df.astype({\"DATE\":\"datetime64\"}).set_index(\"DATE\")\n",
    "target_df.info()"
   ]
  },
  {
   "cell_type": "code",
   "execution_count": 47,
   "metadata": {},
   "outputs": [],
   "source": [
    "# calculate month-on-month change\n",
    "target_df[\"UNEMPLOYMENT_MOM_CHG\"] = target_df[\"UNEMPLOYMENT\"].diff()\n",
    "target_df[\"CPI_MOM_CHG\"] = target_df[\"CPI\"].diff()"
   ]
  },
  {
   "cell_type": "code",
   "execution_count": 49,
   "metadata": {},
   "outputs": [
    {
     "name": "stdout",
     "output_type": "stream",
     "text": [
      "<class 'pandas.core.frame.DataFrame'>\n",
      "DatetimeIndex: 140 entries, 2009-01-01 to 2020-08-01\n",
      "Data columns (total 3 columns):\n",
      " #   Column                Non-Null Count  Dtype  \n",
      "---  ------                --------------  -----  \n",
      " 0   GDP                   140 non-null    float64\n",
      " 1   UNEMPLOYMENT_MOM_CHG  139 non-null    float64\n",
      " 2   CPI_MOM_CHG           139 non-null    float64\n",
      "dtypes: float64(3)\n",
      "memory usage: 9.4 KB\n"
     ]
    }
   ],
   "source": [
    "target_df = target_df.drop(columns=[\"CPI\", \"UNEMPLOYMENT\"])\n",
    "target_df.info()"
   ]
  },
  {
   "cell_type": "code",
   "execution_count": 50,
   "metadata": {},
   "outputs": [
    {
     "name": "stdout",
     "output_type": "stream",
     "text": [
      "<class 'pandas.core.frame.DataFrame'>\n",
      "RangeIndex: 81 entries, 0 to 80\n",
      "Columns: 6945 entries, DATE to CPI_MOM_CHG\n",
      "dtypes: datetime64[ns](1), float64(6010), int64(934)\n",
      "memory usage: 4.3 MB\n"
     ]
    }
   ],
   "source": [
    "# reset index to set DATE as column\n",
    "combined_df = tf_df.merge(target_df, left_index=True, right_index=True, how=\"inner\").reset_index()\n",
    "combined_df.info()"
   ]
  },
  {
   "cell_type": "code",
   "execution_count": 51,
   "metadata": {},
   "outputs": [
    {
     "name": "stderr",
     "output_type": "stream",
     "text": [
      "/opt/conda/lib/python3.7/site-packages/ipykernel_launcher.py:1: FutureWarning: Treating datetime data as categorical rather than numeric in `.describe` is deprecated and will be removed in a future version of pandas. Specify `datetime_is_numeric=True` to silence this warning and adopt the future behavior now.\n",
      "  \"\"\"Entry point for launching an IPython kernel.\n"
     ]
    },
    {
     "data": {
      "text/plain": [
       "count                      81\n",
       "unique                     81\n",
       "top       2016-05-01 00:00:00\n",
       "freq                        1\n",
       "first     2013-12-01 00:00:00\n",
       "last      2020-08-01 00:00:00\n",
       "Name: DATE, dtype: object"
      ]
     },
     "execution_count": 51,
     "metadata": {},
     "output_type": "execute_result"
    }
   ],
   "source": [
    "combined_df.DATE.describe()"
   ]
  },
  {
   "cell_type": "code",
   "execution_count": 35,
   "metadata": {},
   "outputs": [],
   "source": [
    "from cross_validate import cross_validate, build_design_matrix, evaluate_features"
   ]
  },
  {
   "cell_type": "markdown",
   "metadata": {},
   "source": [
    "### Check stationarity assumption\n",
    "\n",
    "From visual inspection, exclude COVID period to satisfy stationarity assumption"
   ]
  },
  {
   "cell_type": "markdown",
   "metadata": {},
   "source": [
    "### Target: 3M on 3M GDP Change"
   ]
  },
  {
   "cell_type": "code",
   "execution_count": 54,
   "metadata": {},
   "outputs": [
    {
     "name": "stdout",
     "output_type": "stream",
     "text": [
      "Forecast for GDP:\n",
      "Average RMSE over 42 predictions for 1-month horizon: 5.092\n",
      "Average RMSE over 40 predictions for 2-month horizon: 5.203\n",
      "Average RMSE over 38 predictions for 3-month horizon: 5.292\n",
      "Average RMSE over 36 predictions for 4-month horizon: 5.305\n",
      "Average RMSE over 34 predictions for 5-month horizon: 5.474\n",
      "Average RMSE over 32 predictions for 6-month horizon: 5.664\n",
      "\n",
      "Average RMSE across different horizons: 5.338\n",
      "\n",
      "Forecast for CPI_MOM_CHG:\n",
      "Average RMSE over 42 predictions for 1-month horizon: 0.298\n",
      "Average RMSE over 40 predictions for 2-month horizon: 0.320\n",
      "Average RMSE over 38 predictions for 3-month horizon: 0.308\n",
      "Average RMSE over 36 predictions for 4-month horizon: 0.311\n",
      "Average RMSE over 34 predictions for 5-month horizon: 0.292\n",
      "Average RMSE over 32 predictions for 6-month horizon: 0.348\n",
      "\n",
      "Average RMSE across different horizons: 0.313\n",
      "\n",
      "Forecast for UNEMPLOYMENT_MOM_CHG:\n",
      "Average RMSE over 42 predictions for 1-month horizon: 0.097\n",
      "Average RMSE over 40 predictions for 2-month horizon: 0.101\n",
      "Average RMSE over 38 predictions for 3-month horizon: 0.101\n",
      "Average RMSE over 36 predictions for 4-month horizon: 0.109\n",
      "Average RMSE over 34 predictions for 5-month horizon: 0.105\n",
      "Average RMSE over 32 predictions for 6-month horizon: 0.105\n",
      "\n",
      "Average RMSE across different horizons: 0.103\n",
      "\n"
     ]
    }
   ],
   "source": [
    "from sklearn.linear_model import LinearRegression, Ridge, Lasso\n",
    "from sklearn.tree import DecisionTreeRegressor\n",
    "from sklearn.ensemble import RandomForestRegressor\n",
    "\n",
    "estimator=LinearRegression()\n",
    "# estimator=Ridge()\n",
    "# estimator=Lasso()\n",
    "# estimator=DecisionTreeRegressor(random_state=0)\n",
    "# estimator=RandomForestRegressor(random_state=0)\n",
    "\n",
    "results_df = pd.DataFrame()\n",
    "for target_col in [\"GDP\", \"CPI_MOM_CHG\", \"UNEMPLOYMENT_MOM_CHG\"]:\n",
    "    print(f\"Forecast for {target_col}:\")\n",
    "    rmse_list = []\n",
    "    design_df_list = []\n",
    "    result_df_list = []\n",
    "    for horizon in [1,2,3,4,5,6]:\n",
    "        design_df, result_df = evaluate_features(\n",
    "             combined_df[tf_df.columns.tolist() + [\"DATE\", target_col]],\n",
    "            date_col=\"DATE\",\n",
    "            var_col=target_col,\n",
    "            horizon=horizon,\n",
    "            estimator=estimator,\n",
    "            window=36,\n",
    "            period=1,\n",
    "            return_model=True,\n",
    "            start_date=\"2013-12-01\",\n",
    "            end_date=\"2020-08-01\",\n",
    "        )\n",
    "        # add metadata to result_df     \n",
    "        result_df[\"horizon\"] = horizon\n",
    "        result_df[\"target\"] = target_col\n",
    "        rmse = (((result_df[\"pred\"] - result_df[\"actual\"]) ** 2).mean()) ** 0.5\n",
    "        rmse_list.append(rmse)\n",
    "        design_df_list.append(design_df)\n",
    "        result_df_list.append(result_df)\n",
    "        print(f\"Average RMSE over {len(result_df)} predictions for {horizon}-month horizon: {rmse:.3f}\")\n",
    "\n",
    "    # concat the result_df_list for different targets\n",
    "    results_df = pd.concat(result_df_list + [results_df])\n",
    "    print(f\"\\nAverage RMSE across different horizons: {np.array(rmse_list).mean():.3f}\\n\")"
   ]
  },
  {
   "cell_type": "code",
   "execution_count": 55,
   "metadata": {},
   "outputs": [
    {
     "data": {
      "text/plain": [
       "<AxesSubplot:xlabel='date', ylabel='3M on 3M GDP Change'>"
      ]
     },
     "execution_count": 55,
     "metadata": {},
     "output_type": "execute_result"
    },
    {
     "data": {
      "image/png": "[encoded data removed]",
      "text/plain": [
       "<Figure size 720x360 with 1 Axes>"
      ]
     },
     "metadata": {},
     "output_type": "display_data"
    }
   ],
   "source": [
    "# check GDP 1-month horizon plot for \n",
    "gdp_result_df = results_df.loc[(results_df[\"target\"] == \"GDP\") & (results_df[\"horizon\"] == 1)]\n",
    "gdp_result_df[[\"pred\", \"actual\", \"date\"]].set_index(\"date\").plot(figsize=(10,5), ylabel=\"3M on 3M GDP Change\")"
   ]
  },
  {
   "cell_type": "code",
   "execution_count": 57,
   "metadata": {},
   "outputs": [],
   "source": [
    "results_df.to_csv(\"model_result.csv\", index=False)"
   ]
  },
  {
   "cell_type": "code",
   "execution_count": null,
   "metadata": {},
   "outputs": [],
   "source": []
  }
 ],
 "metadata": {
  "environment": {
   "name": "common-cpu.m59",
   "type": "gcloud",
   "uri": "gcr.io/deeplearning-platform-release/base-cpu:m59"
  },
  "kernelspec": {
   "display_name": "Python 3",
   "language": "python",
   "name": "python3"
  },
  "language_info": {
   "codemirror_mode": {
    "name": "ipython",
    "version": 3
   },
   "file_extension": ".py",
   "mimetype": "text/x-python",
   "name": "python",
   "nbconvert_exporter": "python",
   "pygments_lexer": "ipython3",
   "version": "3.7.8"
  }
 },
 "nbformat": 4,
 "nbformat_minor": 4
}
