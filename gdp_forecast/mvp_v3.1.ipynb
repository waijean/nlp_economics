{
 "cells": [
  {
   "cell_type": "code",
   "execution_count": 2,
   "metadata": {},
   "outputs": [],
   "source": [
    "from google.cloud import bigquery\n",
    "import pandas as pd\n",
    "import numpy as np\n",
    "import seaborn as sns\n",
    "pd.set_option(\"display.max_rows\", 100)\n",
    "pd.set_option(\"display.max_columns\", None)\n",
    "pd.set_option(\"display.max_colwidth\", None)\n",
    "import matplotlib.pyplot as plt\n",
    "sns.set()"
   ]
  },
  {
   "cell_type": "markdown",
   "metadata": {},
   "source": [
    "### Using term frequency of n-grams across tv shows (with pre-defined vocabulary)"
   ]
  },
  {
   "cell_type": "code",
   "execution_count": 13,
   "metadata": {},
   "outputs": [
    {
     "data": {
      "text/html": [
       "<div>\n",
       "<style scoped>\n",
       "    .dataframe tbody tr th:only-of-type {\n",
       "        vertical-align: middle;\n",
       "    }\n",
       "\n",
       "    .dataframe tbody tr th {\n",
       "        vertical-align: top;\n",
       "    }\n",
       "\n",
       "    .dataframe thead th {\n",
       "        text-align: right;\n",
       "    }\n",
       "</style>\n",
       "<table border=\"1\" class=\"dataframe\">\n",
       "  <thead>\n",
       "    <tr style=\"text-align: right;\">\n",
       "      <th></th>\n",
       "      <th>DATE</th>\n",
       "      <th>NGRAM</th>\n",
       "      <th>COUNT</th>\n",
       "    </tr>\n",
       "  </thead>\n",
       "  <tbody>\n",
       "    <tr>\n",
       "      <th>0</th>\n",
       "      <td>2009-07-01</td>\n",
       "      <td>ha</td>\n",
       "      <td>2.760000</td>\n",
       "    </tr>\n",
       "    <tr>\n",
       "      <th>1</th>\n",
       "      <td>2009-07-01</td>\n",
       "      <td>no</td>\n",
       "      <td>26.370614</td>\n",
       "    </tr>\n",
       "    <tr>\n",
       "      <th>2</th>\n",
       "      <td>2009-07-01</td>\n",
       "      <td>ass</td>\n",
       "      <td>1.500000</td>\n",
       "    </tr>\n",
       "  </tbody>\n",
       "</table>\n",
       "</div>"
      ],
      "text/plain": [
       "         DATE NGRAM      COUNT\n",
       "0  2009-07-01    ha   2.760000\n",
       "1  2009-07-01    no  26.370614\n",
       "2  2009-07-01   ass   1.500000"
      ]
     },
     "execution_count": 13,
     "metadata": {},
     "output_type": "execute_result"
    }
   ],
   "source": [
    "client = bigquery.Client()\n",
    "\n",
    "query=f\"\"\"\n",
    "select *\n",
    "from goldenfleece.final_task.tv_1grams_monthly\n",
    "order by DATE\n",
    "\"\"\"\n",
    "document_df = client.query(query).to_dataframe()\n",
    "document_df.head(3)"
   ]
  },
  {
   "cell_type": "code",
   "execution_count": 15,
   "metadata": {},
   "outputs": [
    {
     "name": "stdout",
     "output_type": "stream",
     "text": [
      "<class 'pandas.core.frame.DataFrame'>\n",
      "RangeIndex: 781379 entries, 0 to 781378\n",
      "Data columns (total 3 columns):\n",
      " #   Column  Non-Null Count   Dtype         \n",
      "---  ------  --------------   -----         \n",
      " 0   DATE    781379 non-null  datetime64[ns]\n",
      " 1   NGRAM   781379 non-null  object        \n",
      " 2   COUNT   781379 non-null  float64       \n",
      "dtypes: datetime64[ns](1), float64(1), object(1)\n",
      "memory usage: 60.6 MB\n"
     ]
    }
   ],
   "source": [
    "document_df = document_df.astype({\"DATE\":\"datetime64\"}) \n",
    "document_df.info(memory_usage=\"deep\")"
   ]
  },
  {
   "cell_type": "code",
   "execution_count": 21,
   "metadata": {},
   "outputs": [
    {
     "name": "stderr",
     "output_type": "stream",
     "text": [
      "/opt/conda/lib/python3.7/site-packages/ipykernel_launcher.py:1: FutureWarning: Treating datetime data as categorical rather than numeric in `.describe` is deprecated and will be removed in a future version of pandas. Specify `datetime_is_numeric=True` to silence this warning and adopt the future behavior now.\n",
      "  \"\"\"Entry point for launching an IPython kernel.\n"
     ]
    },
    {
     "data": {
      "text/plain": [
       "count                  781379\n",
       "unique                    138\n",
       "top       2016-06-01 00:00:00\n",
       "freq                     6023\n",
       "first     2009-07-01 00:00:00\n",
       "last      2020-12-01 00:00:00\n",
       "Name: DATE, dtype: object"
      ]
     },
     "execution_count": 21,
     "metadata": {},
     "output_type": "execute_result"
    }
   ],
   "source": [
    "document_df.DATE.describe()"
   ]
  },
  {
   "cell_type": "code",
   "execution_count": 17,
   "metadata": {},
   "outputs": [],
   "source": [
    "tf_df = pd.pivot_table(document_df, values=\"COUNT\", index=\"DATE\", columns=\"NGRAM\", aggfunc=np.mean, fill_value=0)"
   ]
  },
  {
   "cell_type": "code",
   "execution_count": 18,
   "metadata": {},
   "outputs": [
    {
     "name": "stdout",
     "output_type": "stream",
     "text": [
      "<class 'pandas.core.frame.DataFrame'>\n",
      "DatetimeIndex: 138 entries, 2009-07-01 to 2020-12-01\n",
      "Columns: 7247 entries, 144a to zone\n",
      "dtypes: float64(6688), int64(559)\n",
      "memory usage: 7.6 MB\n"
     ]
    }
   ],
   "source": [
    "tf_df.info()"
   ]
  },
  {
   "cell_type": "code",
   "execution_count": 23,
   "metadata": {},
   "outputs": [
    {
     "data": {
      "text/html": [
       "<div>\n",
       "<style scoped>\n",
       "    .dataframe tbody tr th:only-of-type {\n",
       "        vertical-align: middle;\n",
       "    }\n",
       "\n",
       "    .dataframe tbody tr th {\n",
       "        vertical-align: top;\n",
       "    }\n",
       "\n",
       "    .dataframe thead th {\n",
       "        text-align: right;\n",
       "    }\n",
       "</style>\n",
       "<table border=\"1\" class=\"dataframe\">\n",
       "  <thead>\n",
       "    <tr style=\"text-align: right;\">\n",
       "      <th></th>\n",
       "      <th>DATE</th>\n",
       "      <th>GDP</th>\n",
       "    </tr>\n",
       "  </thead>\n",
       "  <tbody>\n",
       "    <tr>\n",
       "      <th>0</th>\n",
       "      <td>2009-06-01</td>\n",
       "      <td>-0.2</td>\n",
       "    </tr>\n",
       "    <tr>\n",
       "      <th>1</th>\n",
       "      <td>2009-07-01</td>\n",
       "      <td>-0.1</td>\n",
       "    </tr>\n",
       "    <tr>\n",
       "      <th>2</th>\n",
       "      <td>2009-08-01</td>\n",
       "      <td>0.2</td>\n",
       "    </tr>\n",
       "    <tr>\n",
       "      <th>3</th>\n",
       "      <td>2009-09-01</td>\n",
       "      <td>0.2</td>\n",
       "    </tr>\n",
       "    <tr>\n",
       "      <th>4</th>\n",
       "      <td>2009-10-01</td>\n",
       "      <td>0.2</td>\n",
       "    </tr>\n",
       "  </tbody>\n",
       "</table>\n",
       "</div>"
      ],
      "text/plain": [
       "         DATE  GDP\n",
       "0  2009-06-01 -0.2\n",
       "1  2009-07-01 -0.1\n",
       "2  2009-08-01  0.2\n",
       "3  2009-09-01  0.2\n",
       "4  2009-10-01  0.2"
      ]
     },
     "execution_count": 23,
     "metadata": {},
     "output_type": "execute_result"
    }
   ],
   "source": [
    "query=f\"\"\"\n",
    "SELECT DATE, GDP from\n",
    "goldenfleece.final_task.monthly_gdp_lag \n",
    "where DATE >= '2009-06-01'\n",
    "order by DATE\n",
    "\"\"\"\n",
    "gdp_df = client.query(query).to_dataframe()\n",
    "gdp_df.head()"
   ]
  },
  {
   "cell_type": "code",
   "execution_count": 24,
   "metadata": {},
   "outputs": [
    {
     "name": "stdout",
     "output_type": "stream",
     "text": [
      "<class 'pandas.core.frame.DataFrame'>\n",
      "DatetimeIndex: 136 entries, 2009-06-01 to 2020-09-01\n",
      "Data columns (total 1 columns):\n",
      " #   Column  Non-Null Count  Dtype  \n",
      "---  ------  --------------  -----  \n",
      " 0   GDP     136 non-null    float64\n",
      "dtypes: float64(1)\n",
      "memory usage: 2.1 KB\n"
     ]
    }
   ],
   "source": [
    "gdp_df = gdp_df.astype({\"DATE\":\"datetime64\"}).set_index(\"DATE\")\n",
    "gdp_df.info()"
   ]
  },
  {
   "cell_type": "code",
   "execution_count": 25,
   "metadata": {},
   "outputs": [
    {
     "name": "stdout",
     "output_type": "stream",
     "text": [
      "<class 'pandas.core.frame.DataFrame'>\n",
      "RangeIndex: 136 entries, 0 to 135\n",
      "Columns: 7249 entries, DATE to GDP\n",
      "dtypes: datetime64[ns](1), float64(7248)\n",
      "memory usage: 7.5 MB\n"
     ]
    }
   ],
   "source": [
    "# reset index to set DATE as column\n",
    "combined_df = tf_df.merge(gdp_df, left_index=True, right_index=True, how=\"right\").reset_index()\n",
    "combined_df.info()"
   ]
  },
  {
   "cell_type": "code",
   "execution_count": 26,
   "metadata": {},
   "outputs": [],
   "source": [
    "from cross_validate import cross_validate, build_design_matrix, evaluate_features"
   ]
  },
  {
   "cell_type": "markdown",
   "metadata": {},
   "source": [
    "### Check stationarity assumption\n",
    "\n",
    "From visual inspection, exclude COVID period to satisfy stationarity assumption"
   ]
  },
  {
   "cell_type": "code",
   "execution_count": 33,
   "metadata": {},
   "outputs": [
    {
     "name": "stdout",
     "output_type": "stream",
     "text": [
      "Average RMSE over 90 predictions for 1-month horizon: 0.385\n",
      "Average RMSE over 88 predictions for 2-month horizon: 0.388\n",
      "Average RMSE over 86 predictions for 3-month horizon: 0.380\n",
      "Average RMSE over 84 predictions for 4-month horizon: 0.386\n",
      "Average RMSE over 82 predictions for 5-month horizon: 0.394\n",
      "Average RMSE over 80 predictions for 6-month horizon: 0.410\n",
      "\n",
      "Average RMSE across different horizons: 0.391\n"
     ]
    }
   ],
   "source": [
    "from sklearn.linear_model import LinearRegression, Ridge, Lasso\n",
    "from sklearn.tree import DecisionTreeRegressor\n",
    "\n",
    "estimator=LinearRegression()\n",
    "# estimator=Ridge()\n",
    "# estimator=Lasso()\n",
    "# estimator=DecisionTreeRegressor(random_state=0)\n",
    "\n",
    "rmse_list = []\n",
    "design_df_list = []\n",
    "result_df_list = []\n",
    "for horizon in [1,2,3,4,5,6]:\n",
    "    design_df, result_df = evaluate_features(\n",
    "        combined_df,\n",
    "        date_col=\"DATE\",\n",
    "        var_col=\"GDP\",\n",
    "        horizon=horizon,\n",
    "        estimator=estimator,\n",
    "        window=36,\n",
    "        period=1,\n",
    "        return_model=True,\n",
    "        start_date=\"2009-07-01\",\n",
    "        end_date=\"2020-03-01\",\n",
    "    )\n",
    "    rmse = (((result_df[\"pred\"] - result_df[\"actual\"]) ** 2).mean()) ** 0.5\n",
    "    rmse_list.append(rmse)\n",
    "    design_df_list.append(design_df)\n",
    "    result_df_list.append(result_df)\n",
    "    print(f\"Average RMSE over {len(result_df)} predictions for {horizon}-month horizon: {rmse:.3f}\")\n",
    "\n",
    "print(f\"\\nAverage RMSE across different horizons: {np.array(rmse_list).mean():.3f}\")"
   ]
  },
  {
   "cell_type": "code",
   "execution_count": 34,
   "metadata": {},
   "outputs": [
    {
     "data": {
      "text/plain": [
       "<AxesSubplot:xlabel='date'>"
      ]
     },
     "execution_count": 34,
     "metadata": {},
     "output_type": "execute_result"
    },
    {
     "data": {
      "image/png": "[encoded data removed]",
      "text/plain": [
       "<Figure size 720x360 with 1 Axes>"
      ]
     },
     "metadata": {},
     "output_type": "display_data"
    }
   ],
   "source": [
    "# check 1-month horizon plot\n",
    "result_df = result_df_list[0]\n",
    "result_df[[\"pred\", \"actual\", \"date\"]].set_index(\"date\").plot(figsize=(10,5))"
   ]
  },
  {
   "cell_type": "code",
   "execution_count": null,
   "metadata": {},
   "outputs": [],
   "source": []
  }
 ],
 "metadata": {
  "environment": {
   "name": "common-cpu.m59",
   "type": "gcloud",
   "uri": "gcr.io/deeplearning-platform-release/base-cpu:m59"
  },
  "kernelspec": {
   "display_name": "Python 3",
   "language": "python",
   "name": "python3"
  },
  "language_info": {
   "codemirror_mode": {
    "name": "ipython",
    "version": 3
   },
   "file_extension": ".py",
   "mimetype": "text/x-python",
   "name": "python",
   "nbconvert_exporter": "python",
   "pygments_lexer": "ipython3",
   "version": "3.7.8"
  }
 },
 "nbformat": 4,
 "nbformat_minor": 4
}
