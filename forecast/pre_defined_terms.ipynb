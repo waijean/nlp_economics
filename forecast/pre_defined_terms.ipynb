{
 "cells": [
  {
   "cell_type": "markdown",
   "metadata": {},
   "source": [
    "## Pre-defined terms in BOE working paper\n",
    "\n",
    "[BOE working paper](#https://www.bankofengland.co.uk/-/media/boe/files/working-paper/2020/making-text-count-economic-forecasting-using-newspaper-text.pdf?la=en&hash=E81EC91956CEA4FC6F63C4DC5942F0E9D4580558)\n",
    "\n",
    "We use 9660 terms, with up to 3-grams. The pre-defined list of terms used to construct the term\n",
    "frequency matrix uses the union of several dictionaries. These are those dictionaries found in \n",
    "- Nyman et al. (2018)\n",
    "- Loughran and McDonald (2013)\n",
    "- Nielsen (2011)\n",
    "- Hu and Liu (2004)\n",
    "- Hu et al. (2017), and \n",
    "- Correa et al. (2017). \n",
    "\n",
    "We add to this a collection of words related to economics and finance (most of these come from https://home.ubalt.edu/ntsbarsh/stat-data/KeywordsPhra.htm and http://home.ubalt.edu/ntsbarsh/Business-stat/stat-data/KeysPhrasFinance.htm.) and the Harvard IV psychological dictionary used by Tetlock (2007). \n",
    "\n",
    "We use n-grams up to trigrams only if they already exist individually in these dictionaries. For example, “interest rate risk” is a tri-gram\n",
    "inherited from one of the component dictionaries. This gives 9660 unique terms of which 8030 appear in our corpus."
   ]
  },
  {
   "cell_type": "code",
   "execution_count": 1,
   "metadata": {},
   "outputs": [],
   "source": [
    "from google.cloud import bigquery\n",
    "import pandas as pd\n",
    "import numpy as np\n",
    "import seaborn as sns\n",
    "pd.set_option(\"display.max_rows\", 100)\n",
    "pd.set_option(\"display.max_columns\", None)\n",
    "pd.set_option(\"display.max_colwidth\", None)\n",
    "import matplotlib.pyplot as plt\n",
    "sns.set()"
   ]
  },
  {
   "cell_type": "code",
   "execution_count": 2,
   "metadata": {},
   "outputs": [
    {
     "data": {
      "text/html": [
       "<div>\n",
       "<style scoped>\n",
       "    .dataframe tbody tr th:only-of-type {\n",
       "        vertical-align: middle;\n",
       "    }\n",
       "\n",
       "    .dataframe tbody tr th {\n",
       "        vertical-align: top;\n",
       "    }\n",
       "\n",
       "    .dataframe thead th {\n",
       "        text-align: right;\n",
       "    }\n",
       "</style>\n",
       "<table border=\"1\" class=\"dataframe\">\n",
       "  <thead>\n",
       "    <tr style=\"text-align: right;\">\n",
       "      <th></th>\n",
       "      <th>tone_lmcd_negative</th>\n",
       "      <th>tone_lmcd_positive</th>\n",
       "      <th>tone_lmcd_uncertainty</th>\n",
       "      <th>tone_lmcd_litigious</th>\n",
       "      <th>tone_lmcd_strong_modal</th>\n",
       "      <th>tone_lmcd_weak_modal</th>\n",
       "      <th>tone_lmcd_constraining</th>\n",
       "      <th>tone_rid_anxiety</th>\n",
       "    </tr>\n",
       "  </thead>\n",
       "  <tbody>\n",
       "    <tr>\n",
       "      <th>0</th>\n",
       "      <td>ABANDON</td>\n",
       "      <td>ABLE</td>\n",
       "      <td>ABEYANCE</td>\n",
       "      <td>ABOVEMENTIONED</td>\n",
       "      <td>ALWAYS</td>\n",
       "      <td>ALMOST</td>\n",
       "      <td>ABIDE</td>\n",
       "      <td>TREMOR</td>\n",
       "    </tr>\n",
       "    <tr>\n",
       "      <th>1</th>\n",
       "      <td>ABANDONED</td>\n",
       "      <td>ABUNDANCE</td>\n",
       "      <td>ABEYANCES</td>\n",
       "      <td>ABROGATE</td>\n",
       "      <td>BEST</td>\n",
       "      <td>APPARENTLY</td>\n",
       "      <td>ABIDING</td>\n",
       "      <td>AFRAID</td>\n",
       "    </tr>\n",
       "    <tr>\n",
       "      <th>2</th>\n",
       "      <td>ABANDONING</td>\n",
       "      <td>ABUNDANT</td>\n",
       "      <td>ALMOST</td>\n",
       "      <td>ABROGATED</td>\n",
       "      <td>CLEARLY</td>\n",
       "      <td>APPEARED</td>\n",
       "      <td>BOUND</td>\n",
       "      <td>AGHAST</td>\n",
       "    </tr>\n",
       "  </tbody>\n",
       "</table>\n",
       "</div>"
      ],
      "text/plain": [
       "  tone_lmcd_negative tone_lmcd_positive tone_lmcd_uncertainty  \\\n",
       "0            ABANDON               ABLE              ABEYANCE   \n",
       "1          ABANDONED          ABUNDANCE             ABEYANCES   \n",
       "2         ABANDONING           ABUNDANT                ALMOST   \n",
       "\n",
       "  tone_lmcd_litigious tone_lmcd_strong_modal tone_lmcd_weak_modal  \\\n",
       "0      ABOVEMENTIONED                 ALWAYS               ALMOST   \n",
       "1            ABROGATE                   BEST           APPARENTLY   \n",
       "2           ABROGATED                CLEARLY             APPEARED   \n",
       "\n",
       "  tone_lmcd_constraining tone_rid_anxiety  \n",
       "0                  ABIDE           TREMOR  \n",
       "1                ABIDING           AFRAID  \n",
       "2                  BOUND           AGHAST  "
      ]
     },
     "execution_count": 2,
     "metadata": {},
     "output_type": "execute_result"
    }
   ],
   "source": [
    "client = bigquery.Client()\n",
    "\n",
    "query=f\"\"\"\n",
    "select * from goldenfleece.final_task.tone\n",
    "\"\"\"\n",
    "vocab_df = client.query(query).to_dataframe()\n",
    "vocab_df.head(3)"
   ]
  },
  {
   "cell_type": "code",
   "execution_count": 8,
   "metadata": {},
   "outputs": [
    {
     "name": "stdout",
     "output_type": "stream",
     "text": [
      "Number of terms: 4189\n"
     ]
    }
   ],
   "source": [
    "term_list = [term.lower() for row in vocab_df.values.tolist() for term in row if term is not None]\n",
    "\n",
    "print(f\"Number of terms: {len(term_list)}\")"
   ]
  },
  {
   "cell_type": "code",
   "execution_count": null,
   "metadata": {},
   "outputs": [],
   "source": [
    "from sklearn.feature_extraction.text import CountVectorizer\n",
    "\n",
    "Doc1 = 'Wimbledon is one of the four Grand Slam tennis tournaments, the others being the Australian Open, the French Open and the US Open.'\n",
    "Doc2 = 'Since the Australian Open shifted to hardcourt in 1988, Wimbledon is the only major still played on grass'\n",
    "doc_set = [Doc1, Doc2]\n",
    "\n",
    "my_vocabulary = ['grand slam', 'australian open', 'french open', 'us open']\n",
    "my_vocabulary_dict = {term:i for i, term in enumerate(my_vocabulary)}"
   ]
  },
  {
   "cell_type": "code",
   "execution_count": null,
   "metadata": {},
   "outputs": [],
   "source": [
    "my_vocabulary_dict"
   ]
  },
  {
   "cell_type": "code",
   "execution_count": null,
   "metadata": {},
   "outputs": [],
   "source": [
    "vectorizer = CountVectorizer(ngram_range=(2, 2), vocabulary=my_vocabulary_dict)"
   ]
  },
  {
   "cell_type": "code",
   "execution_count": null,
   "metadata": {},
   "outputs": [],
   "source": [
    "term_count = vectorizer.transform(doc_set)\n",
    "term_count.toarray()"
   ]
  },
  {
   "cell_type": "code",
   "execution_count": null,
   "metadata": {},
   "outputs": [],
   "source": [
    "# to inspect how well the default analyzer in CountVectorizer performs\n",
    "analyze = vectorizer.build_analyzer()\n",
    "\n",
    "# first 20 tokenized terms\n",
    "analyze(Doc1)"
   ]
  }
 ],
 "metadata": {
  "environment": {
   "name": "common-cpu.m59",
   "type": "gcloud",
   "uri": "gcr.io/deeplearning-platform-release/base-cpu:m59"
  },
  "kernelspec": {
   "display_name": "Python 3",
   "language": "python",
   "name": "python3"
  },
  "language_info": {
   "codemirror_mode": {
    "name": "ipython",
    "version": 3
   },
   "file_extension": ".py",
   "mimetype": "text/x-python",
   "name": "python",
   "nbconvert_exporter": "python",
   "pygments_lexer": "ipython3",
   "version": "3.7.1"
  }
 },
 "nbformat": 4,
 "nbformat_minor": 4
}
