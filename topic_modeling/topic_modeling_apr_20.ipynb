{
 "cells": [
  {
   "cell_type": "code",
   "execution_count": 1,
   "metadata": {},
   "outputs": [],
   "source": [
    "import pandas as pd\n",
    "import re\n",
    "pd.set_option('display.max_rows', 500)\n",
    "pd.set_option('display.max_columns', 500)\n",
    "pd.set_option('display.width', 1000)\n",
    "pd.set_option('max_colwidth', None)\n",
    "\n",
    "from google.cloud import bigquery"
   ]
  },
  {
   "cell_type": "code",
   "execution_count": 2,
   "metadata": {},
   "outputs": [],
   "source": [
    "client = bigquery.Client()\n",
    "\n",
    "query=\"\"\"\n",
    "SELECT * FROM goldenfleece.sentiment.gkg_apr_2020_sample \n",
    "\"\"\"\n",
    "df = client.query(query).to_dataframe()"
   ]
  },
  {
   "cell_type": "code",
   "execution_count": 3,
   "metadata": {},
   "outputs": [
    {
     "name": "stdout",
     "output_type": "stream",
     "text": [
      "<class 'pandas.core.frame.DataFrame'>\n",
      "RangeIndex: 924653 entries, 0 to 924652\n",
      "Data columns (total 10 columns):\n",
      " #   Column                      Non-Null Count   Dtype \n",
      "---  ------                      --------------   ----- \n",
      " 0   GKGRECORDID                 924653 non-null  object\n",
      " 1   DATE                        924653 non-null  object\n",
      " 2   V2Themes                    924653 non-null  object\n",
      " 3   TONE                        924653 non-null  object\n",
      " 4   POSITIVE_SCORE              924653 non-null  object\n",
      " 5   NEGATIVE_SCORE              924653 non-null  object\n",
      " 6   POLARITY                    924653 non-null  object\n",
      " 7   ACTIVITY_REFERENCE_DENSITY  924653 non-null  object\n",
      " 8   SELF_REFERENCE_DENSITY      924653 non-null  object\n",
      " 9   WORD_COUNT                  924653 non-null  object\n",
      "dtypes: object(10)\n",
      "memory usage: 70.5+ MB\n"
     ]
    }
   ],
   "source": [
    "df.info()"
   ]
  },
  {
   "cell_type": "code",
   "execution_count": 4,
   "metadata": {},
   "outputs": [],
   "source": [
    "def pre_process_themes(df):\n",
    "    # drop missing themes rows\n",
    "    df = df.dropna(subset=[\"V2Themes\"])\n",
    "    # split by ';' and remove everything after ',' \n",
    "    return [[re.sub(r',.*', '', theme) for theme in doc.split(';') if theme] for doc in df[\"V2Themes\"].tolist()]"
   ]
  },
  {
   "cell_type": "code",
   "execution_count": 5,
   "metadata": {},
   "outputs": [
    {
     "name": "stdout",
     "output_type": "stream",
     "text": [
      "Number of unique tokens: 13376\n",
      "Number of documents: 924653\n"
     ]
    }
   ],
   "source": [
    "from gensim.corpora import Dictionary\n",
    "\n",
    "# get the processed corpus\n",
    "processed_corpus = pre_process_themes(df)\n",
    "\n",
    "# load the training dictionary\n",
    "dictionary = Dictionary.load(\"dictionary\")\n",
    "\n",
    "print('Number of unique tokens: %d' % len(dictionary))\n",
    "print('Number of documents: %d' % len(processed_corpus))"
   ]
  },
  {
   "cell_type": "code",
   "execution_count": 6,
   "metadata": {},
   "outputs": [
    {
     "name": "stdout",
     "output_type": "stream",
     "text": [
      "Bag-of-words representation of the first document: [(711, 2)]\n",
      "Bag-of-words representation of the fifth document: [(57, 1), (86, 1), (87, 2), (115, 1), (120, 1), (127, 1), (135, 8), (137, 8), (139, 3), (178, 3), (202, 1), (282, 2), (284, 2), (319, 1), (321, 2), (350, 1), (357, 1), (434, 1), (438, 1), (447, 1), (569, 1), (676, 2), (713, 1), (933, 1), (1000, 3), (1134, 1), (1135, 1), (1136, 1), (1137, 1), (1263, 3), (1458, 3), (1772, 3), (1878, 1), (1925, 1), (3351, 1), (3368, 1), (3369, 1)]\n"
     ]
    }
   ],
   "source": [
    "# bag-of-words representation of the documents\n",
    "bow_corpus = [dictionary.doc2bow(doc) for doc in processed_corpus]\n",
    "\n",
    "# sense check first and fifth corpus\n",
    "print(f'Bag-of-words representation of the first document: {bow_corpus[0]}')\n",
    "print(f'Bag-of-words representation of the fifth document: {bow_corpus[4]}')"
   ]
  },
  {
   "cell_type": "code",
   "execution_count": 7,
   "metadata": {},
   "outputs": [],
   "source": [
    "from gensim.models import LdaMulticore\n",
    "\n",
    "# load pre-trained model\n",
    "model = LdaMulticore.load(\"lda_model\")"
   ]
  },
  {
   "cell_type": "code",
   "execution_count": 8,
   "metadata": {},
   "outputs": [],
   "source": [
    "def predict(model, bow_corpus):\n",
    "    result = {}\n",
    "    for i, row in enumerate(model[bow_corpus]):\n",
    "        row = sorted(row, key=lambda x: (x[1]), reverse=True)\n",
    "        dominant_topic = row[0][0]\n",
    "        result[i] = dominant_topic + 1\n",
    "    return pd.Series(result, name=\"topic\")    \n",
    "\n",
    "topic = predict(model, bow_corpus)\n",
    "topic_df = df.merge(topic, left_index=True, right_index=True)\n",
    "assert len(topic) == len(topic_df)"
   ]
  },
  {
   "cell_type": "code",
   "execution_count": 14,
   "metadata": {},
   "outputs": [
    {
     "name": "stdout",
     "output_type": "stream",
     "text": [
      "<class 'pandas.core.frame.DataFrame'>\n",
      "RangeIndex: 924653 entries, 0 to 924652\n",
      "Data columns (total 10 columns):\n",
      " #   Column                      Non-Null Count   Dtype \n",
      "---  ------                      --------------   ----- \n",
      " 0   GKGRECORDID                 924653 non-null  object\n",
      " 1   DATE                        924653 non-null  object\n",
      " 2   TONE                        924653 non-null  object\n",
      " 3   POSITIVE_SCORE              924653 non-null  object\n",
      " 4   NEGATIVE_SCORE              924653 non-null  object\n",
      " 5   POLARITY                    924653 non-null  object\n",
      " 6   ACTIVITY_REFERENCE_DENSITY  924653 non-null  object\n",
      " 7   SELF_REFERENCE_DENSITY      924653 non-null  object\n",
      " 8   WORD_COUNT                  924653 non-null  object\n",
      " 9   topic                       924653 non-null  int64 \n",
      "dtypes: int64(1), object(9)\n",
      "memory usage: 800.7 MB\n"
     ]
    }
   ],
   "source": [
    "topic_df = topic_df.drop(\"V2Themes\", axis=1)\n",
    "topic_df.info(memory_usage=\"deep\")\n",
    "topic_df.to_csv(\"../data/gkg_apr_2020_sample_topic.csv\", index=False)"
   ]
  }
 ],
 "metadata": {
  "environment": {
   "name": "common-cpu.m59",
   "type": "gcloud",
   "uri": "gcr.io/deeplearning-platform-release/base-cpu:m59"
  },
  "kernelspec": {
   "display_name": "Python 3",
   "language": "python",
   "name": "python3"
  },
  "language_info": {
   "codemirror_mode": {
    "name": "ipython",
    "version": 3
   },
   "file_extension": ".py",
   "mimetype": "text/x-python",
   "name": "python",
   "nbconvert_exporter": "python",
   "pygments_lexer": "ipython3",
   "version": "3.7.8"
  }
 },
 "nbformat": 4,
 "nbformat_minor": 4
}
