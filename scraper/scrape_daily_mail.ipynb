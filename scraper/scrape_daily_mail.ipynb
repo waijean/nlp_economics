{
 "cells": [
  {
   "cell_type": "code",
   "execution_count": 1,
   "metadata": {},
   "outputs": [],
   "source": [
    "from google.cloud import bigquery\n",
    "import pandas as pd\n",
    "import numpy as np\n",
    "import seaborn as sns\n",
    "pd.set_option(\"display.max_rows\", 100)\n",
    "pd.set_option(\"display.max_columns\", None)\n",
    "pd.set_option(\"display.max_colwidth\", None)\n",
    "import matplotlib.pyplot as plt\n",
    "sns.set()"
   ]
  },
  {
   "cell_type": "code",
   "execution_count": 2,
   "metadata": {},
   "outputs": [
    {
     "data": {
      "text/html": [
       "<div>\n",
       "<style scoped>\n",
       "    .dataframe tbody tr th:only-of-type {\n",
       "        vertical-align: middle;\n",
       "    }\n",
       "\n",
       "    .dataframe tbody tr th {\n",
       "        vertical-align: top;\n",
       "    }\n",
       "\n",
       "    .dataframe thead th {\n",
       "        text-align: right;\n",
       "    }\n",
       "</style>\n",
       "<table border=\"1\" class=\"dataframe\">\n",
       "  <thead>\n",
       "    <tr style=\"text-align: right;\">\n",
       "      <th></th>\n",
       "      <th>DATE</th>\n",
       "      <th>GKGRECORDID</th>\n",
       "      <th>DocumentIdentifier</th>\n",
       "    </tr>\n",
       "  </thead>\n",
       "  <tbody>\n",
       "    <tr>\n",
       "      <th>0</th>\n",
       "      <td>2015-03-01</td>\n",
       "      <td>20150301010000-1308</td>\n",
       "      <td>http://www.dailymail.co.uk/money/markets/article-2973645/Investors-fear-post-election-chaos-believe-politicians-not-support-reveals-survey.html</td>\n",
       "    </tr>\n",
       "    <tr>\n",
       "      <th>1</th>\n",
       "      <td>2015-03-01</td>\n",
       "      <td>20150301010000-572</td>\n",
       "      <td>http://www.dailymail.co.uk/money/markets/article-2973635/Future-looks-healthy-Foods-sales-exceed-100m.html</td>\n",
       "    </tr>\n",
       "    <tr>\n",
       "      <th>2</th>\n",
       "      <td>2015-03-01</td>\n",
       "      <td>20150301010000-1311</td>\n",
       "      <td>http://www.dailymail.co.uk/money/markets/article-2973550/ITV-reveal-turnaround-s-success-profits-22.html</td>\n",
       "    </tr>\n",
       "    <tr>\n",
       "      <th>3</th>\n",
       "      <td>2015-03-01</td>\n",
       "      <td>20150301010000-1303</td>\n",
       "      <td>http://www.dailymail.co.uk/money/markets/article-2973619/Trinity-Mirror-set-reveal-fall-profits.html</td>\n",
       "    </tr>\n",
       "    <tr>\n",
       "      <th>4</th>\n",
       "      <td>2015-03-02</td>\n",
       "      <td>20150302234500-1894</td>\n",
       "      <td>http://www.dailymail.co.uk/money/markets/article-2976383/Barclays-braced-huge-penalties-stows-extra-500m-pay-fines-rigging-foreign-currency-rates.html</td>\n",
       "    </tr>\n",
       "  </tbody>\n",
       "</table>\n",
       "</div>"
      ],
      "text/plain": [
       "         DATE          GKGRECORDID  \\\n",
       "0  2015-03-01  20150301010000-1308   \n",
       "1  2015-03-01   20150301010000-572   \n",
       "2  2015-03-01  20150301010000-1311   \n",
       "3  2015-03-01  20150301010000-1303   \n",
       "4  2015-03-02  20150302234500-1894   \n",
       "\n",
       "                                                                                                                                       DocumentIdentifier  \n",
       "0         http://www.dailymail.co.uk/money/markets/article-2973645/Investors-fear-post-election-chaos-believe-politicians-not-support-reveals-survey.html  \n",
       "1                                              http://www.dailymail.co.uk/money/markets/article-2973635/Future-looks-healthy-Foods-sales-exceed-100m.html  \n",
       "2                                                http://www.dailymail.co.uk/money/markets/article-2973550/ITV-reveal-turnaround-s-success-profits-22.html  \n",
       "3                                                    http://www.dailymail.co.uk/money/markets/article-2973619/Trinity-Mirror-set-reveal-fall-profits.html  \n",
       "4  http://www.dailymail.co.uk/money/markets/article-2976383/Barclays-braced-huge-penalties-stows-extra-500m-pay-fines-rigging-foreign-currency-rates.html  "
      ]
     },
     "execution_count": 2,
     "metadata": {},
     "output_type": "execute_result"
    }
   ],
   "source": [
    "client = bigquery.Client()\n",
    "\n",
    "query=f\"\"\"\n",
    "SELECT DATE, GKGRECORDID, DocumentIdentifier\n",
    "FROM goldenfleece.final_task.gkg_daily_mail_v2\n",
    "order by DATE\n",
    "\"\"\"\n",
    "url_df = client.query(query).to_dataframe()\n",
    "url_df.head()"
   ]
  },
  {
   "cell_type": "code",
   "execution_count": 3,
   "metadata": {},
   "outputs": [
    {
     "name": "stdout",
     "output_type": "stream",
     "text": [
      "<class 'pandas.core.frame.DataFrame'>\n",
      "DatetimeIndex: 17257 entries, 2015-03-01 to 2020-09-30\n",
      "Data columns (total 2 columns):\n",
      " #   Column              Non-Null Count  Dtype \n",
      "---  ------              --------------  ----- \n",
      " 0   GKGRECORDID         17257 non-null  object\n",
      " 1   DocumentIdentifier  17257 non-null  object\n",
      "dtypes: object(2)\n",
      "memory usage: 404.5+ KB\n"
     ]
    }
   ],
   "source": [
    "url_df = url_df.astype({\"DATE\":\"datetime64\"}).set_index(\"DATE\")\n",
    "url_df.info()"
   ]
  },
  {
   "cell_type": "code",
   "execution_count": 4,
   "metadata": {},
   "outputs": [
    {
     "data": {
      "text/plain": [
       "<AxesSubplot:xlabel='DATE'>"
      ]
     },
     "execution_count": 4,
     "metadata": {},
     "output_type": "execute_result"
    },
    {
     "data": {
      "image/png": "[encoded data removed]",
      "text/plain": [
       "<Figure size 432x288 with 1 Axes>"
      ]
     },
     "metadata": {},
     "output_type": "display_data"
    }
   ],
   "source": [
    "url_df.resample(\"MS\")[\"GKGRECORDID\"].count().plot()"
   ]
  },
  {
   "cell_type": "code",
   "execution_count": 5,
   "metadata": {},
   "outputs": [
    {
     "name": "stdout",
     "output_type": "stream",
     "text": [
      "Total URLs to retrive: 17257\n"
     ]
    },
    {
     "data": {
      "text/plain": [
       "DATE\n",
       "2015-01-01    2488\n",
       "2016-01-01    3105\n",
       "2017-01-01    2773\n",
       "2018-01-01    3428\n",
       "2019-01-01    3307\n",
       "2020-01-01    2156\n",
       "Freq: AS-JAN, Name: GKGRECORDID, dtype: int64"
      ]
     },
     "execution_count": 5,
     "metadata": {},
     "output_type": "execute_result"
    }
   ],
   "source": [
    "print(f\"Total URLs to retrive: {len(url_df)}\")\n",
    "url_df.resample(\"AS\")[\"GKGRECORDID\"].count()"
   ]
  },
  {
   "cell_type": "markdown",
   "metadata": {},
   "source": [
    "### start with 2015 first"
   ]
  },
  {
   "cell_type": "code",
   "execution_count": 6,
   "metadata": {},
   "outputs": [],
   "source": [
    "from web_scraper import get_articles"
   ]
  },
  {
   "cell_type": "code",
   "execution_count": 7,
   "metadata": {},
   "outputs": [],
   "source": [
    "def get_articles_by_year(url_df, year):\n",
    "    year = str(year)\n",
    "    # filter by year\n",
    "    url_df_subset = url_df.loc[year]\n",
    "    \n",
    "    # convert series to list\n",
    "    url_list = url_df_subset[\"DocumentIdentifier\"].to_list()\n",
    "    \n",
    "    # this will return list of 2-tuple\n",
    "    articles = get_articles(url_list)\n",
    "    assert len(url_list) == len(articles)\n",
    "    \n",
    "    return articles"
   ]
  },
  {
   "cell_type": "code",
   "execution_count": 42,
   "metadata": {},
   "outputs": [
    {
     "name": "stdout",
     "output_type": "stream",
     "text": [
      "Processing a total of 2156 articles\n"
     ]
    }
   ],
   "source": [
    "articles = get_articles_by_year(url_df, 2020)"
   ]
  },
  {
   "cell_type": "code",
   "execution_count": 43,
   "metadata": {},
   "outputs": [],
   "source": [
    "url_df_subset = url_df.loc[\"2020\"]\n",
    "url_list = url_df_subset[\"DocumentIdentifier\"].to_list()"
   ]
  },
  {
   "cell_type": "code",
   "execution_count": 44,
   "metadata": {},
   "outputs": [
    {
     "name": "stdout",
     "output_type": "stream",
     "text": [
      "<class 'pandas.core.frame.DataFrame'>\n",
      "DatetimeIndex: 2156 entries, 2020-01-01 to 2020-09-30\n",
      "Data columns (total 2 columns):\n",
      " #   Column              Non-Null Count  Dtype \n",
      "---  ------              --------------  ----- \n",
      " 0   GKGRECORDID         2156 non-null   object\n",
      " 1   DocumentIdentifier  2156 non-null   object\n",
      "dtypes: object(2)\n",
      "memory usage: 50.5+ KB\n"
     ]
    }
   ],
   "source": [
    "url_df_subset.info()"
   ]
  },
  {
   "cell_type": "code",
   "execution_count": 45,
   "metadata": {},
   "outputs": [],
   "source": [
    "# merge with url_df_subset and store the output to Google Big Query\n",
    "url_df_subset[['title', 'content']] = pd.DataFrame(articles, index=url_df_subset.index) "
   ]
  },
  {
   "cell_type": "code",
   "execution_count": 46,
   "metadata": {},
   "outputs": [
    {
     "name": "stdout",
     "output_type": "stream",
     "text": [
      "<class 'pandas.core.frame.DataFrame'>\n",
      "DatetimeIndex: 2156 entries, 2020-01-01 to 2020-09-30\n",
      "Data columns (total 4 columns):\n",
      " #   Column              Non-Null Count  Dtype \n",
      "---  ------              --------------  ----- \n",
      " 0   GKGRECORDID         2156 non-null   object\n",
      " 1   DocumentIdentifier  2156 non-null   object\n",
      " 2   title               2156 non-null   object\n",
      " 3   content             2156 non-null   object\n",
      "dtypes: object(4)\n",
      "memory usage: 9.2 MB\n"
     ]
    }
   ],
   "source": [
    "url_df_subset.info(memory_usage=\"deep\")"
   ]
  },
  {
   "cell_type": "code",
   "execution_count": 47,
   "metadata": {},
   "outputs": [
    {
     "name": "stdout",
     "output_type": "stream",
     "text": [
      "Number of articles with empty content: 1\n"
     ]
    },
    {
     "data": {
      "text/html": [
       "<div>\n",
       "<style scoped>\n",
       "    .dataframe tbody tr th:only-of-type {\n",
       "        vertical-align: middle;\n",
       "    }\n",
       "\n",
       "    .dataframe tbody tr th {\n",
       "        vertical-align: top;\n",
       "    }\n",
       "\n",
       "    .dataframe thead th {\n",
       "        text-align: right;\n",
       "    }\n",
       "</style>\n",
       "<table border=\"1\" class=\"dataframe\">\n",
       "  <thead>\n",
       "    <tr style=\"text-align: right;\">\n",
       "      <th></th>\n",
       "      <th>GKGRECORDID</th>\n",
       "      <th>DocumentIdentifier</th>\n",
       "      <th>title</th>\n",
       "      <th>content</th>\n",
       "    </tr>\n",
       "    <tr>\n",
       "      <th>DATE</th>\n",
       "      <th></th>\n",
       "      <th></th>\n",
       "      <th></th>\n",
       "      <th></th>\n",
       "    </tr>\n",
       "  </thead>\n",
       "  <tbody>\n",
       "    <tr>\n",
       "      <th>2020-01-06</th>\n",
       "      <td>20200106100000-387</td>\n",
       "      <td>https://www.dailymail.co.uk/money/markets/article-7856005/FTSE-Live-Car-registrations-lowest-level-6-years-Aldi-boasts-bumper-Christmas.html</td>\n",
       "      <td>FTSE CLOSE: Car registrations at lowest level in six years; Aldi boasts bumper Christmas; Services sector stagnates in December</td>\n",
       "      <td></td>\n",
       "    </tr>\n",
       "  </tbody>\n",
       "</table>\n",
       "</div>"
      ],
      "text/plain": [
       "                   GKGRECORDID  \\\n",
       "DATE                             \n",
       "2020-01-06  20200106100000-387   \n",
       "\n",
       "                                                                                                                                      DocumentIdentifier  \\\n",
       "DATE                                                                                                                                                       \n",
       "2020-01-06  https://www.dailymail.co.uk/money/markets/article-7856005/FTSE-Live-Car-registrations-lowest-level-6-years-Aldi-boasts-bumper-Christmas.html   \n",
       "\n",
       "                                                                                                                                      title  \\\n",
       "DATE                                                                                                                                          \n",
       "2020-01-06  FTSE CLOSE: Car registrations at lowest level in six years; Aldi boasts bumper Christmas; Services sector stagnates in December   \n",
       "\n",
       "           content  \n",
       "DATE                \n",
       "2020-01-06          "
      ]
     },
     "execution_count": 47,
     "metadata": {},
     "output_type": "execute_result"
    }
   ],
   "source": [
    "empty_content = url_df_subset[url_df_subset.content == \"\"]\n",
    "\n",
    "print(f\"Number of articles with empty content: {len(empty_content)}\")\n",
    "\n",
    "empty_content"
   ]
  },
  {
   "cell_type": "code",
   "execution_count": 48,
   "metadata": {},
   "outputs": [
    {
     "name": "stderr",
     "output_type": "stream",
     "text": [
      "1it [00:06,  6.64s/it]\n"
     ]
    }
   ],
   "source": [
    "url_df_subset.to_gbq(\"final_task.daily_mail_2015\", project_id=\"goldenfleece\", if_exists=\"append\")"
   ]
  },
  {
   "cell_type": "code",
   "execution_count": null,
   "metadata": {},
   "outputs": [],
   "source": []
  }
 ],
 "metadata": {
  "environment": {
   "name": "common-cpu.m59",
   "type": "gcloud",
   "uri": "gcr.io/deeplearning-platform-release/base-cpu:m59"
  },
  "kernelspec": {
   "display_name": "Python 3",
   "language": "python",
   "name": "python3"
  },
  "language_info": {
   "codemirror_mode": {
    "name": "ipython",
    "version": 3
   },
   "file_extension": ".py",
   "mimetype": "text/x-python",
   "name": "python",
   "nbconvert_exporter": "python",
   "pygments_lexer": "ipython3",
   "version": "3.7.8"
  }
 },
 "nbformat": 4,
 "nbformat_minor": 4
}
