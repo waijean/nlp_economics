{
 "cells": [
  {
   "cell_type": "code",
   "execution_count": 6,
   "metadata": {},
   "outputs": [],
   "source": [
    "from google.cloud import bigquery\n",
    "import pandas as pd"
   ]
  },
  {
   "cell_type": "code",
   "execution_count": 2,
   "metadata": {},
   "outputs": [
    {
     "data": {
      "text/html": [
       "<div>\n",
       "<style scoped>\n",
       "    .dataframe tbody tr th:only-of-type {\n",
       "        vertical-align: middle;\n",
       "    }\n",
       "\n",
       "    .dataframe tbody tr th {\n",
       "        vertical-align: top;\n",
       "    }\n",
       "\n",
       "    .dataframe thead th {\n",
       "        text-align: right;\n",
       "    }\n",
       "</style>\n",
       "<table border=\"1\" class=\"dataframe\">\n",
       "  <thead>\n",
       "    <tr style=\"text-align: right;\">\n",
       "      <th></th>\n",
       "      <th>DATE</th>\n",
       "      <th>AVG_TONE</th>\n",
       "      <th>AVG_POSITIVE_SCORE</th>\n",
       "      <th>AVG_NEGATIVE_SCORE</th>\n",
       "      <th>AVG_POLARITY</th>\n",
       "      <th>NUMBER_OF_ARTICLES</th>\n",
       "    </tr>\n",
       "  </thead>\n",
       "  <tbody>\n",
       "    <tr>\n",
       "      <th>0</th>\n",
       "      <td>20200101</td>\n",
       "      <td>-6.017551457</td>\n",
       "      <td>2.149165089</td>\n",
       "      <td>8.166716546</td>\n",
       "      <td>10.315881635</td>\n",
       "      <td>18</td>\n",
       "    </tr>\n",
       "    <tr>\n",
       "      <th>1</th>\n",
       "      <td>20200102</td>\n",
       "      <td>-5.378190877</td>\n",
       "      <td>1.556339353</td>\n",
       "      <td>6.934530230</td>\n",
       "      <td>8.490869583</td>\n",
       "      <td>50</td>\n",
       "    </tr>\n",
       "    <tr>\n",
       "      <th>2</th>\n",
       "      <td>20200103</td>\n",
       "      <td>-5.884740139</td>\n",
       "      <td>1.721482468</td>\n",
       "      <td>7.606222607</td>\n",
       "      <td>9.327705075</td>\n",
       "      <td>40</td>\n",
       "    </tr>\n",
       "    <tr>\n",
       "      <th>3</th>\n",
       "      <td>20200104</td>\n",
       "      <td>-5.213566203</td>\n",
       "      <td>2.195057625</td>\n",
       "      <td>7.408623828</td>\n",
       "      <td>9.603681452</td>\n",
       "      <td>42</td>\n",
       "    </tr>\n",
       "    <tr>\n",
       "      <th>4</th>\n",
       "      <td>20200105</td>\n",
       "      <td>-5.526246926</td>\n",
       "      <td>1.687839156</td>\n",
       "      <td>7.214086083</td>\n",
       "      <td>8.901925239</td>\n",
       "      <td>18</td>\n",
       "    </tr>\n",
       "  </tbody>\n",
       "</table>\n",
       "</div>"
      ],
      "text/plain": [
       "       DATE      AVG_TONE AVG_POSITIVE_SCORE AVG_NEGATIVE_SCORE  AVG_POLARITY  \\\n",
       "0  20200101  -6.017551457        2.149165089        8.166716546  10.315881635   \n",
       "1  20200102  -5.378190877        1.556339353        6.934530230   8.490869583   \n",
       "2  20200103  -5.884740139        1.721482468        7.606222607   9.327705075   \n",
       "3  20200104  -5.213566203        2.195057625        7.408623828   9.603681452   \n",
       "4  20200105  -5.526246926        1.687839156        7.214086083   8.901925239   \n",
       "\n",
       "   NUMBER_OF_ARTICLES  \n",
       "0                  18  \n",
       "1                  50  \n",
       "2                  40  \n",
       "3                  42  \n",
       "4                  18  "
      ]
     },
     "execution_count": 2,
     "metadata": {},
     "output_type": "execute_result"
    }
   ],
   "source": [
    "client = bigquery.Client()\n",
    "\n",
    "query=\"\"\"\n",
    "SELECT * from goldenfleece.sentiment.daily_sentiment_2020_covid_theme\n",
    "\"\"\"\n",
    "tone_df = client.query(query).to_dataframe()\n",
    "tone_df.head()"
   ]
  },
  {
   "cell_type": "code",
   "execution_count": 21,
   "metadata": {},
   "outputs": [
    {
     "name": "stdout",
     "output_type": "stream",
     "text": [
      "<class 'pandas.core.frame.DataFrame'>\n",
      "DatetimeIndex: 330 entries, 2020-01-01 to 2020-11-25\n",
      "Data columns (total 5 columns):\n",
      " #   Column              Non-Null Count  Dtype  \n",
      "---  ------              --------------  -----  \n",
      " 0   AVG_TONE            330 non-null    float64\n",
      " 1   AVG_POSITIVE_SCORE  330 non-null    float64\n",
      " 2   AVG_NEGATIVE_SCORE  330 non-null    float64\n",
      " 3   AVG_POLARITY        330 non-null    float64\n",
      " 4   NUMBER_OF_ARTICLES  330 non-null    int64  \n",
      "dtypes: float64(4), int64(1)\n",
      "memory usage: 15.5 KB\n"
     ]
    }
   ],
   "source": [
    "tone_df = tone_df.astype({\"DATE\":\"datetime64\", \"AVG_TONE\":float, \"AVG_POSITIVE_SCORE\":float, \"AVG_NEGATIVE_SCORE\":float, \"AVG_POLARITY\":float}).set_index(\"DATE\")\n",
    "tone_df.info()"
   ]
  },
  {
   "cell_type": "code",
   "execution_count": 3,
   "metadata": {},
   "outputs": [
    {
     "data": {
      "text/html": [
       "<div>\n",
       "<style scoped>\n",
       "    .dataframe tbody tr th:only-of-type {\n",
       "        vertical-align: middle;\n",
       "    }\n",
       "\n",
       "    .dataframe tbody tr th {\n",
       "        vertical-align: top;\n",
       "    }\n",
       "\n",
       "    .dataframe thead th {\n",
       "        text-align: right;\n",
       "    }\n",
       "</style>\n",
       "<table border=\"1\" class=\"dataframe\">\n",
       "  <thead>\n",
       "    <tr style=\"text-align: right;\">\n",
       "      <th></th>\n",
       "      <th>Date</th>\n",
       "      <th>Open</th>\n",
       "      <th>High</th>\n",
       "      <th>Low</th>\n",
       "      <th>Close</th>\n",
       "      <th>Adj_Close</th>\n",
       "      <th>Volume</th>\n",
       "    </tr>\n",
       "  </thead>\n",
       "  <tbody>\n",
       "    <tr>\n",
       "      <th>0</th>\n",
       "      <td>2019-10-17</td>\n",
       "      <td>7168.0</td>\n",
       "      <td>7237.799805</td>\n",
       "      <td>7162.0</td>\n",
       "      <td>7182.299805</td>\n",
       "      <td>7182.299805</td>\n",
       "      <td>1126096700</td>\n",
       "    </tr>\n",
       "    <tr>\n",
       "      <th>1</th>\n",
       "      <td>2020-04-22</td>\n",
       "      <td>5641.0</td>\n",
       "      <td>5777.100098</td>\n",
       "      <td>5641.0</td>\n",
       "      <td>5770.600098</td>\n",
       "      <td>5770.600098</td>\n",
       "      <td>866999300</td>\n",
       "    </tr>\n",
       "    <tr>\n",
       "      <th>2</th>\n",
       "      <td>2020-07-02</td>\n",
       "      <td>6158.0</td>\n",
       "      <td>6258.600098</td>\n",
       "      <td>6158.0</td>\n",
       "      <td>6240.399902</td>\n",
       "      <td>6240.399902</td>\n",
       "      <td>806189500</td>\n",
       "    </tr>\n",
       "    <tr>\n",
       "      <th>3</th>\n",
       "      <td>2020-11-09</td>\n",
       "      <td>5910.0</td>\n",
       "      <td>6258.299805</td>\n",
       "      <td>5910.0</td>\n",
       "      <td>6186.299805</td>\n",
       "      <td>6186.299805</td>\n",
       "      <td>2067706200</td>\n",
       "    </tr>\n",
       "    <tr>\n",
       "      <th>4</th>\n",
       "      <td>2020-11-03</td>\n",
       "      <td>5655.0</td>\n",
       "      <td>5787.600098</td>\n",
       "      <td>5655.0</td>\n",
       "      <td>5786.799805</td>\n",
       "      <td>5786.799805</td>\n",
       "      <td>803790300</td>\n",
       "    </tr>\n",
       "  </tbody>\n",
       "</table>\n",
       "</div>"
      ],
      "text/plain": [
       "         Date    Open         High     Low        Close    Adj_Close  \\\n",
       "0  2019-10-17  7168.0  7237.799805  7162.0  7182.299805  7182.299805   \n",
       "1  2020-04-22  5641.0  5777.100098  5641.0  5770.600098  5770.600098   \n",
       "2  2020-07-02  6158.0  6258.600098  6158.0  6240.399902  6240.399902   \n",
       "3  2020-11-09  5910.0  6258.299805  5910.0  6186.299805  6186.299805   \n",
       "4  2020-11-03  5655.0  5787.600098  5655.0  5786.799805  5786.799805   \n",
       "\n",
       "       Volume  \n",
       "0  1126096700  \n",
       "1   866999300  \n",
       "2   806189500  \n",
       "3  2067706200  \n",
       "4   803790300  "
      ]
     },
     "execution_count": 3,
     "metadata": {},
     "output_type": "execute_result"
    }
   ],
   "source": [
    "query=\"\"\"\n",
    "SELECT * from goldenfleece.sentiment.ftse100\n",
    "\"\"\"\n",
    "ftse_df = client.query(query).to_dataframe()\n",
    "ftse_df.head()"
   ]
  },
  {
   "cell_type": "code",
   "execution_count": 22,
   "metadata": {},
   "outputs": [
    {
     "name": "stdout",
     "output_type": "stream",
     "text": [
      "<class 'pandas.core.frame.DataFrame'>\n",
      "DatetimeIndex: 300 entries, 2019-10-17 to 2020-10-20\n",
      "Data columns (total 6 columns):\n",
      " #   Column     Non-Null Count  Dtype  \n",
      "---  ------     --------------  -----  \n",
      " 0   Open       300 non-null    float64\n",
      " 1   High       300 non-null    float64\n",
      " 2   Low        300 non-null    float64\n",
      " 3   Close      300 non-null    float64\n",
      " 4   Adj_Close  300 non-null    float64\n",
      " 5   Volume     300 non-null    int64  \n",
      "dtypes: float64(5), int64(1)\n",
      "memory usage: 16.4 KB\n"
     ]
    }
   ],
   "source": [
    "ftse_df = ftse_df.astype({\"Date\":\"datetime64\"}).set_index(\"Date\") \n",
    "ftse_df.info()"
   ]
  },
  {
   "cell_type": "code",
   "execution_count": 34,
   "metadata": {},
   "outputs": [],
   "source": [
    "adj_close = ftse_df.sort_index()[\"Adj_Close\"]\n",
    "adj_return = (adj_close.divide(adj_close.shift(1)) - 1).dropna()"
   ]
  },
  {
   "cell_type": "code",
   "execution_count": 36,
   "metadata": {},
   "outputs": [
    {
     "name": "stdout",
     "output_type": "stream",
     "text": [
      "<class 'pandas.core.frame.DataFrame'>\n",
      "DatetimeIndex: 229 entries, 2020-01-02 to 2020-11-24\n",
      "Data columns (total 6 columns):\n",
      " #   Column              Non-Null Count  Dtype  \n",
      "---  ------              --------------  -----  \n",
      " 0   AVG_TONE            229 non-null    float64\n",
      " 1   AVG_POSITIVE_SCORE  229 non-null    float64\n",
      " 2   AVG_NEGATIVE_SCORE  229 non-null    float64\n",
      " 3   AVG_POLARITY        229 non-null    float64\n",
      " 4   NUMBER_OF_ARTICLES  229 non-null    int64  \n",
      " 5   Adj_Close           229 non-null    float64\n",
      "dtypes: float64(5), int64(1)\n",
      "memory usage: 12.5 KB\n"
     ]
    }
   ],
   "source": [
    "merged_df = tone_df.merge(adj_return, left_index=True, right_index=True)\n",
    "merged_df.info()"
   ]
  },
  {
   "cell_type": "code",
   "execution_count": 40,
   "metadata": {},
   "outputs": [
    {
     "data": {
      "text/plain": [
       "AVG_TONE              0.074234\n",
       "AVG_POSITIVE_SCORE    0.123902\n",
       "AVG_NEGATIVE_SCORE   -0.054841\n",
       "AVG_POLARITY         -0.020036\n",
       "NUMBER_OF_ARTICLES    0.019110\n",
       "Name: Adj_Close, dtype: float64"
      ]
     },
     "execution_count": 40,
     "metadata": {},
     "output_type": "execute_result"
    }
   ],
   "source": [
    "merged_df.corr(method=\"pearson\")[\"Adj_Close\"].drop(index=\"Adj_Close\")"
   ]
  },
  {
   "cell_type": "code",
   "execution_count": 41,
   "metadata": {},
   "outputs": [
    {
     "data": {
      "text/plain": [
       "<AxesSubplot:xlabel='Adj_Close', ylabel='AVG_POSITIVE_SCORE'>"
      ]
     },
     "execution_count": 41,
     "metadata": {},
     "output_type": "execute_result"
    },
    {
     "data": {
      "image/png": "[encoded data removed]",
      "text/plain": [
       "<Figure size 432x288 with 1 Axes>"
      ]
     },
     "metadata": {
      "needs_background": "light"
     },
     "output_type": "display_data"
    }
   ],
   "source": [
    "merged_df.plot.scatter(x=\"Adj_Close\", y=\"AVG_POSITIVE_SCORE\")"
   ]
  }
 ],
 "metadata": {
  "environment": {
   "name": "common-cpu.m59",
   "type": "gcloud",
   "uri": "gcr.io/deeplearning-platform-release/base-cpu:m59"
  },
  "kernelspec": {
   "display_name": "Python 3",
   "language": "python",
   "name": "python3"
  },
  "language_info": {
   "codemirror_mode": {
    "name": "ipython",
    "version": 3
   },
   "file_extension": ".py",
   "mimetype": "text/x-python",
   "name": "python",
   "nbconvert_exporter": "python",
   "pygments_lexer": "ipython3",
   "version": "3.7.8"
  }
 },
 "nbformat": 4,
 "nbformat_minor": 4
}
