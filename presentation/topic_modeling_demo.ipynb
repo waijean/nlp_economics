{
 "cells": [
  {
   "cell_type": "markdown",
   "metadata": {},
   "source": [
    "# LDA Topic Modeling\n",
    "\n",
    "We want to group the articles into several topics without explicitly setting manual rules.\n",
    "\n",
    "![wordcloud](img/wordcloud.png)\n",
    "\n",
    "# Correlation with FTSE100\n",
    "\n",
    "Investigate correlation of stock market return with each of these 8 topics\n",
    "\n",
    "![correlation_matrix](img/correlation_heatmap_nov_20.png)\n",
    "\n",
    "![theme_correlation](img/theme_correlation.png)"
   ]
  },
  {
   "cell_type": "code",
   "execution_count": null,
   "metadata": {},
   "outputs": [],
   "source": []
  }
 ],
 "metadata": {
  "environment": {
   "name": "common-cpu.m59",
   "type": "gcloud",
   "uri": "gcr.io/deeplearning-platform-release/base-cpu:m59"
  },
  "kernelspec": {
   "display_name": "Python 3",
   "language": "python",
   "name": "python3"
  },
  "language_info": {
   "codemirror_mode": {
    "name": "ipython",
    "version": 3
   },
   "file_extension": ".py",
   "mimetype": "text/x-python",
   "name": "python",
   "nbconvert_exporter": "python",
   "pygments_lexer": "ipython3",
   "version": "3.7.8"
  }
 },
 "nbformat": 4,
 "nbformat_minor": 4
}
