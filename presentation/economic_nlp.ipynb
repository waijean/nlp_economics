{
 "cells": [
  {
   "cell_type": "markdown",
   "metadata": {},
   "source": [
    "# Economic NLP"
   ]
  },
  {
   "cell_type": "markdown",
   "metadata": {},
   "source": [
    "## The Aim\n",
    "The aim of this project is explore how alternative data could help our economic forecasts. One idea that has been considered was the scraping of newspapers, blogs etc for attitudes to things that change sentiment of the populus and subsequently and indirectly, the economy. \n",
    "\n",
    "## The Approach\n",
    "To test this theory, the team conducted some analysis to explore topics around COVID 19. In particular, we have access to a public dataset courtest of https://www.gdeltproject.org/. The GDELT database monitors print, broadcast, and web news media in over 100 languages from across every country in the world to keep continually updated on breaking developments anywhere on the planet. Its historical archives stretch back to January 1, 1979 and update every 15 minutes. Through its ability to leverage the world's collective news media, GDELT moves beyond the focus of the Western media towards a far more global perspective on what's happening and how the world is feeling about it.\n",
    "\n",
    "## Global Knowledge Graph\n",
    "One particular dataset within GDELT of interest, is the Global Knowledge Graph. not only do we have the links to the articles, but we have various useful enrichments:\n",
    "\n",
    "Overview\n",
    "\n",
    "- Around 1bn rows\n",
    "\n",
    "- Updated every 15 mins\n",
    "\n",
    "- Each entry is a news article\n",
    "\n",
    "- Detailed information on every person, location, number and theme mentioned in an article\n",
    "\n",
    "more info here: https://console.cloud.google.com/bigquery?authuser=1&project=goldenfleece\n",
    "\n",
    "## General tone of conversation\n",
    "we used the above dataset to understand what the general sentiment or tone of all articles across the year.\n",
    "\n",
    "![Tone of Articles](img/articles_tone.png)\n",
    "\n",
    "the task is to mine the GDELT database for all news articles related to the mentions of “vaccine” and analyse if we think the sentiment is positive (vaccine will work, life back to normal etc), negative (side effects will be awful, not proven, not safe etc) to see how possible it is. This could be explored via a multitude of approaches, such as Bag of words Models, unsupervised LDA topic modelling and associated sentiment analysis to understand the context of the articles that display positive vs negative sentiment. Sentiment can also change over time, so there is an opporunity to explore this also.\n",
    "\n",
    "https://datastudio.google.com/reporting/50b45093-253e-4be0-b917-b5c9bf2d0cef/page/vIRqB\n"
   ]
  },
  {
   "cell_type": "markdown",
   "metadata": {},
   "source": [
    "# Change in Sentiment in 2020 in themes releated to Economy and Coronavirus"
   ]
  },
  {
   "cell_type": "markdown",
   "metadata": {},
   "source": [
    "link to dashboard\n",
    "https://datastudio.google.com/s/gEiHCjskAQY"
   ]
  },
  {
   "cell_type": "markdown",
   "metadata": {},
   "source": [
    "## Article Themes\n",
    "Themes were tagged in original BigQuery dataset using taxonomy classifications from a number of different organisations including UN and World Bank.  Some themes have prefixes to align to the organisation source of the theme taxonomy.  We have filtered for the following themes\n",
    "\n",
    "- TAX_DISEASE_CORONAVIRUS______Coronavirus theme\n",
    "- HEALTH_VACCINATIONS__________Vaccinations (not just Coronavirus Vaccine)\n",
    "- EPU_GOVERNMENT_POLICY________Government Policy\n",
    "- EPU_POLICY_BUDGET____________Government Policy - Budget\n",
    "- EPU_ECONOMY__________________Economy\n",
    "- EPU_ECONOMY_DEBT_____________Economy - Public Debt\n",
    "- ECON_STOCKMARKET_____________Economy - Stock Market\n",
    "- ECON_TAXATION________________Economy - Tax\n",
    "- UNEMPLOYMENT_________________Unemployment\n",
    "- PROTEST______________________Protests (in 2020 these may be linked to BLM protests and other causes, including anti-lockdown)"
   ]
  },
  {
   "cell_type": "markdown",
   "metadata": {},
   "source": [
    "## Locations & sources\n",
    "\n",
    "Sources have been restricted to online articles from the following UK based sources, and a locational filter has been applied to restrict articles to those covering the UK\n",
    "\n",
    "- dailymail.co.uk\n",
    "- express.co.uk\n",
    "- telegraph.co.uk\n",
    "- mirror.co.uk\n",
    "- bbc.com, bbc.co.uk\n",
    "- theguardian.com\n",
    "- thesun.co.uk\n",
    "- heraldscotland.com\n",
    "- walesonline.co.uk\n"
   ]
  },
  {
   "cell_type": "markdown",
   "metadata": {},
   "source": [
    "## Understanding the consumer side\n",
    "So far we have conducted a lot of research around the supply side of news, but what about the response to it?\n",
    "\n",
    "We obtained access to reddit comments for the same time period, but this time focused on April and Novembver, courtesy of https://pushshift.io/\n",
    "\n",
    "Sentiment was calculated using subjectivity * polairty, where subjectivity ranges between 0-1 and polarity from -1 and +1. Essentially, very personal positive comments tends towards score of +1. Sentiment scores are the average of comments on that day.\n",
    "\n",
    "![Consumer Sentiment](img/consumer_sentiment.png)\n",
    "\n",
    "Looks like the overall sentiment for November is generally slightly higher!\n",
    "\n",
    " \n",
    "Looking at the most negative comments in April:\n",
    "\n",
    "![Negative comment 1](img/negative_comment1.png)\n",
    "\n",
    "![Negative comment 2](img/negative_comment2.png)\n",
    "\n",
    "\n",
    "\n",
    "\n",
    "\n",
    "Then looking at some positive comments in November - some politically linked, comments on shares. \n",
    "![Positive comment 1](img/positive_comment1.png)\n",
    "\n",
    "![Positive comment 2](img/positive_comment2.png)\n",
    "\n",
    "![Positive comment 3](img/positive_comment3.png)"
   ]
  }
 ],
 "metadata": {
  "environment": {
   "name": "common-cpu.m59",
   "type": "gcloud",
   "uri": "gcr.io/deeplearning-platform-release/base-cpu:m59"
  },
  "kernelspec": {
   "display_name": "Python 3",
   "language": "python",
   "name": "python3"
  },
  "language_info": {
   "codemirror_mode": {
    "name": "ipython",
    "version": 3
   },
   "file_extension": ".py",
   "mimetype": "text/x-python",
   "name": "python",
   "nbconvert_exporter": "python",
   "pygments_lexer": "ipython3",
   "version": "3.7.8"
  }
 },
 "nbformat": 4,
 "nbformat_minor": 4
}
